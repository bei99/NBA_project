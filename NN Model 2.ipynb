{
 "cells": [
  {
   "cell_type": "code",
   "execution_count": 51,
   "id": "121a30ea",
   "metadata": {},
   "outputs": [],
   "source": [
    "import pandas as pd\n",
    "import tensorflow as tf\n",
    "from tensorflow.keras.models import Sequential\n",
    "from tensorflow.keras.layers import Dense\n",
    "from tensorflow.keras.wrappers.scikit_learn import KerasRegressor\n",
    "from sklearn.model_selection import cross_val_score\n",
    "from sklearn.model_selection import KFold\n",
    "from sklearn.preprocessing import StandardScaler\n",
    "from sklearn.pipeline import Pipeline\n",
    "from sklearn.model_selection import train_test_split"
   ]
  },
  {
   "cell_type": "code",
   "execution_count": 52,
   "id": "31a7582a",
   "metadata": {},
   "outputs": [
    {
     "name": "stderr",
     "output_type": "stream",
     "text": [
      "C:\\Users\\Bei\\anaconda3\\lib\\site-packages\\IPython\\core\\interactiveshell.py:3165: DtypeWarning: Columns (70,71) have mixed types.Specify dtype option on import or set low_memory=False.\n",
      "  has_raised = await self.run_ast_nodes(code_ast.body, cell_name,\n"
     ]
    }
   ],
   "source": [
    "stats = pd.read_csv(r'Data\\final_dataset_ewm_year.csv')\n",
    "stats = stats.drop('PACE',1)\n",
    "stats = stats.drop('E_PACE', 1)\n",
    "stats = stats.drop('Score',1)\n",
    "stats = stats.drop('Odds1',1)\n",
    "stats = stats.drop('Odds2',1)"
   ]
  },
  {
   "cell_type": "code",
   "execution_count": 53,
   "id": "77f61eae",
   "metadata": {},
   "outputs": [],
   "source": [
    "X = stats.iloc[:,3:-1]\n",
    "y = stats.iloc[:,-1]\n",
    "\n",
    "random_state = 12\n",
    "#split\n",
    "X_train, X_test, y_train, y_test = train_test_split(X, y, test_size = 0.2, shuffle = True, random_state=random_state)\n",
    "X_train = tf.keras.utils.normalize(X_train, axis=1)\n",
    "X_test = tf.keras.utils.normalize(X_test, axis=1)\n"
   ]
  },
  {
   "cell_type": "code",
   "execution_count": 54,
   "id": "9161915b",
   "metadata": {},
   "outputs": [
    {
     "name": "stdout",
     "output_type": "stream",
     "text": [
      "Epoch 1/3\n",
      "583/583 [==============================] - 0s 535us/step - loss: 0.6682 - accuracy: 0.5932\n",
      "Epoch 2/3\n",
      "583/583 [==============================] - 0s 530us/step - loss: 0.6623 - accuracy: 0.6016\n",
      "Epoch 3/3\n",
      "583/583 [==============================] - 0s 535us/step - loss: 0.6609 - accuracy: 0.6044\n"
     ]
    },
    {
     "data": {
      "text/plain": [
       "<tensorflow.python.keras.callbacks.History at 0x1dcc7cdbaf0>"
      ]
     },
     "execution_count": 54,
     "metadata": {},
     "output_type": "execute_result"
    }
   ],
   "source": [
    "model = Sequential()\n",
    "#model.add(tf.keras.layers.Flatten())\n",
    "model.add(Dense(64, input_dim=64, kernel_initializer='normal', activation='relu'))\n",
    "model.add(Dense(16, kernel_initializer='normal', activation='relu'))\n",
    "model.add(Dense(1, kernel_initializer='normal', activation='sigmoid'))\n",
    "\n",
    "model.compile(optimizer='adam', loss='binary_crossentropy', metrics=['accuracy'])\n",
    "model.fit(X_train, y_train, batch_size= 20, epochs=3)"
   ]
  },
  {
   "cell_type": "code",
   "execution_count": 55,
   "id": "ae6eafc1",
   "metadata": {},
   "outputs": [
    {
     "name": "stdout",
     "output_type": "stream",
     "text": [
      "92/92 [==============================] - 0s 401us/step - loss: 0.6565 - accuracy: 0.6051\n",
      "0.656475841999054 0.6051458120346069\n"
     ]
    }
   ],
   "source": [
    "val_loss, val_acc = model.evaluate(X_test, y_test)\n",
    "print(val_loss, val_acc)"
   ]
  },
  {
   "cell_type": "code",
   "execution_count": 66,
   "id": "f1875eec",
   "metadata": {},
   "outputs": [
    {
     "name": "stdout",
     "output_type": "stream",
     "text": [
      "Generate a prediction\n",
      "prediction: [[0.74071985]\n",
      " [0.7063157 ]\n",
      " [0.6999029 ]\n",
      " [0.8138082 ]\n",
      " [0.5702793 ]\n",
      " [0.492929  ]\n",
      " [0.5885447 ]\n",
      " [0.73608774]\n",
      " [0.50709456]\n",
      " [0.5963956 ]]\n",
      "516      0.0\n",
      "13731    1.0\n",
      "13579    1.0\n",
      "2023     0.0\n",
      "8721     0.0\n",
      "5016     1.0\n",
      "2852     1.0\n",
      "12903    0.0\n",
      "12282    1.0\n",
      "12924    0.0\n",
      "Name: Results, dtype: float64\n"
     ]
    }
   ],
   "source": [
    "\n",
    "print(\"Generate a prediction\")\n",
    "prediction = model.predict(X_test[:10])\n",
    "print(\"prediction:\", prediction)\n",
    "print(y_test[:10]) \n"
   ]
  },
  {
   "cell_type": "code",
   "execution_count": null,
   "id": "969441d2",
   "metadata": {},
   "outputs": [],
   "source": []
  },
  {
   "cell_type": "code",
   "execution_count": null,
   "id": "d59f82ce",
   "metadata": {},
   "outputs": [],
   "source": []
  },
  {
   "cell_type": "code",
   "execution_count": 44,
   "id": "5f3cd50d",
   "metadata": {},
   "outputs": [],
   "source": [
    " from sklearn.pipeline import Pipeline\n",
    "from sklearn.preprocessing import StandardScaler\n",
    "from sklearn.decomposition import PCA\n",
    "from sklearn.linear_model import LogisticRegression\n",
    "_sc = StandardScaler()\n",
    "_pca = PCA(n_components = None)\n",
    "_model = LogisticRegression()\n",
    "log_regress_model = Pipeline([\n",
    "    ('std_scaler', _sc),\n",
    "    ('pca', _pca),\n",
    "('regressor', _model)])"
   ]
  },
  {
   "cell_type": "code",
   "execution_count": 46,
   "id": "9edee1bc",
   "metadata": {},
   "outputs": [
    {
     "name": "stderr",
     "output_type": "stream",
     "text": [
      "C:\\Users\\Bei\\anaconda3\\lib\\site-packages\\sklearn\\linear_model\\_logistic.py:763: ConvergenceWarning: lbfgs failed to converge (status=1):\n",
      "STOP: TOTAL NO. of ITERATIONS REACHED LIMIT.\n",
      "\n",
      "Increase the number of iterations (max_iter) or scale the data as shown in:\n",
      "    https://scikit-learn.org/stable/modules/preprocessing.html\n",
      "Please also refer to the documentation for alternative solver options:\n",
      "    https://scikit-learn.org/stable/modules/linear_model.html#logistic-regression\n",
      "  n_iter_i = _check_optimize_result(\n"
     ]
    },
    {
     "data": {
      "text/plain": [
       "Pipeline(steps=[('std_scaler', StandardScaler()), ('pca', PCA()),\n",
       "                ('regressor', LogisticRegression())])"
      ]
     },
     "execution_count": 46,
     "metadata": {},
     "output_type": "execute_result"
    }
   ],
   "source": [
    "# perform a split\n",
    "X_train, X_test, y_train, y_test = \\\n",
    "    train_test_split(X, y, \n",
    "                     test_size=0.3,\n",
    "                     shuffle=True, \n",
    "                     random_state=random_state)\n",
    "# train the model using the PCA components\n",
    "log_regress_model.fit(X_train,y_train)\n",
    "\n"
   ]
  },
  {
   "cell_type": "code",
   "execution_count": 47,
   "id": "48397b1e",
   "metadata": {},
   "outputs": [
    {
     "data": {
      "text/plain": [
       "0.6119368854333409"
      ]
     },
     "execution_count": 47,
     "metadata": {},
     "output_type": "execute_result"
    }
   ],
   "source": [
    "log_regress_model.score(X_test,y_test)"
   ]
  },
  {
   "cell_type": "code",
   "execution_count": null,
   "id": "080accb0",
   "metadata": {},
   "outputs": [],
   "source": []
  }
 ],
 "metadata": {
  "kernelspec": {
   "display_name": "Python 3",
   "language": "python",
   "name": "python3"
  },
  "language_info": {
   "codemirror_mode": {
    "name": "ipython",
    "version": 3
   },
   "file_extension": ".py",
   "mimetype": "text/x-python",
   "name": "python",
   "nbconvert_exporter": "python",
   "pygments_lexer": "ipython3",
   "version": "3.8.8"
  }
 },
 "nbformat": 4,
 "nbformat_minor": 5
}
