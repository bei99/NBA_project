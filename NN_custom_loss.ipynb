{
 "cells": [
  {
   "cell_type": "code",
   "execution_count": 228,
   "id": "406d65e6",
   "metadata": {},
   "outputs": [],
   "source": [
    "import pandas as pd\n",
    "import tensorflow as tf\n",
    "import numpy as np\n",
    "from tensorflow.keras.models import Sequential\n",
    "from tensorflow.keras.layers import Dense, Dropout\n",
    "from tensorflow.keras.wrappers.scikit_learn import KerasRegressor\n",
    "from sklearn.model_selection import cross_val_score\n",
    "from sklearn.model_selection import KFold\n",
    "from sklearn.preprocessing import StandardScaler\n",
    "from sklearn.pipeline import Pipeline\n",
    "from sklearn.model_selection import train_test_split\n",
    "from tensorflow.keras.regularizers import l2\n",
    "from tensorflow.keras import backend as K\n",
    "from tensorflow.keras.callbacks import TensorBoard\n",
    "from tensorflow.keras.optimizers import Adam\n",
    "import pickle\n",
    "import time, datetime, os\n",
    "%reload_ext tensorboard"
   ]
  },
  {
   "cell_type": "code",
   "execution_count": 229,
   "id": "31b8de53",
   "metadata": {},
   "outputs": [
    {
     "name": "stderr",
     "output_type": "stream",
     "text": [
      "C:\\Users\\Bei\\anaconda3\\lib\\site-packages\\IPython\\core\\interactiveshell.py:3165: DtypeWarning: Columns (269) have mixed types.Specify dtype option on import or set low_memory=False.\n",
      "  has_raised = await self.run_ast_nodes(code_ast.body, cell_name,\n"
     ]
    }
   ],
   "source": [
    "NAME = \"264x32x16x1_MSE_sv{}\".format(int(time.time()))\n",
    "log_dir = \"logs/fit/\" + NAME\n",
    "tensorboard_callback = tf.keras.callbacks.TensorBoard(log_dir=log_dir, histogram_freq=1)\n",
    "stats = pd.read_csv(r'Data\\final_dataset_nonzero.csv')\n",
    "#stats = stats.drop('Score',1)\n",
    "stats['Results'] = pd.to_numeric(stats['Results'], errors='coerce')"
   ]
  },
  {
   "cell_type": "code",
   "execution_count": 230,
   "id": "3d20c729",
   "metadata": {},
   "outputs": [
    {
     "data": {
      "text/plain": [
       "array([[0.73529412],\n",
       "       [0.73529412],\n",
       "       [0.78740157],\n",
       "       ...,\n",
       "       [0.72992701],\n",
       "       [0.84033613],\n",
       "       [0.09191176]])"
      ]
     },
     "execution_count": 230,
     "metadata": {},
     "output_type": "execute_result"
    }
   ],
   "source": [
    "X = stats.iloc[:,3:-4]\n",
    "y = stats.iloc[:,-1:]\n",
    "random_state = 12\n",
    "#split\n",
    "X_train, X_test, y_train, y_test = train_test_split(X, y, test_size = 0.2, shuffle = True, random_state=random_state)\n",
    "X_train = tf.keras.utils.normalize(X_train, axis=1)\n",
    "X_test = tf.keras.utils.normalize(X_test, axis=1)\n",
    "odds1 = stats.iloc[:, -3:-2].values\n",
    "odds1_prob = 1/odds1\n",
    "odds1_prob\n"
   ]
  },
  {
   "cell_type": "code",
   "execution_count": 231,
   "id": "e2b1c754",
   "metadata": {},
   "outputs": [],
   "source": [
    "from tensorflow.python.ops import math_ops\n",
    "\n",
    "def custom_loss_bce(y_true, y_pred):\n",
    "    \"\"\"\n",
    "    y_true = (batch_size, output nodes)\n",
    "    y_pred = (batch_size, output nodes)\n",
    "    \"\"\"\n",
    "    odds1 = y_true[:, 0:1]\n",
    "    odds2 = y_true[:, 1:2]\n",
    "    y_true = y_true[:, :-1]\n",
    "    loss = -1 * K.sum((odds1 * y_true -1) * K.log(odds1 * y_pred -1) + (odds2 * (1- y_true) -1) * K.log(odds2 * (1-y_pred)-1))\n",
    "    \n",
    "    return loss\n",
    "\n",
    "\n",
    "def coef_mse(y_pred, y_true, odds_game):\n",
    "    #mse = K.square(y_pred - y_true)  #squared difference\n",
    "    #odds = 0.05 * K.square(y_pred - odds_game)   \n",
    "    #loss = K.mean(mse - odds , axis=-1) #mean over last dimension\n",
    "    return K.mean(K.square(y_pred - y_true) - 0.20 * K.square(y_pred- odds_game), axis=-1)\n",
    "def mse_custom(odds_game):\n",
    "    def mse(y_true, y_pred):\n",
    "        return coef_mse(y_pred, y_true, odds_game )\n",
    "    return mse\n",
    "\n",
    "\n",
    "loss_mse = mse_custom(odds1_prob)\n",
    "\n",
    "def mse_simple(y_true, y_pred):\n",
    "    mse = math_ops.squared_difference(y_pred, y_true) \n",
    "    loss = K.mean(mse, axis=-1)\n",
    "    return loss\n",
    "    "
   ]
  },
  {
   "cell_type": "code",
   "execution_count": 232,
   "id": "ccb922d0",
   "metadata": {},
   "outputs": [
    {
     "name": "stdout",
     "output_type": "stream",
     "text": [
      "Epoch 1/5\n",
      "   2/3800 [..............................] - ETA: 8:50 - loss: 0.2501 - accuracy: 0.6667WARNING:tensorflow:Callbacks method `on_train_batch_end` is slow compared to the batch time (batch time: 0.0000s vs `on_train_batch_end` time: 0.2795s). Check your callbacks.\n",
      "3800/3800 [==============================] - 3s 826us/step - loss: 0.2207 - accuracy: 0.6492 - val_loss: 0.2199 - val_accuracy: 0.6552\n",
      "Epoch 2/5\n",
      "3800/3800 [==============================] - 3s 759us/step - loss: 0.2164 - accuracy: 0.6611 - val_loss: 0.2158 - val_accuracy: 0.6563\n",
      "Epoch 3/5\n",
      "3800/3800 [==============================] - 3s 725us/step - loss: 0.2140 - accuracy: 0.6631 - val_loss: 0.2156 - val_accuracy: 0.6647\n",
      "Epoch 4/5\n",
      "3800/3800 [==============================] - 3s 693us/step - loss: 0.2123 - accuracy: 0.6653 - val_loss: 0.2171 - val_accuracy: 0.6626\n",
      "Epoch 5/5\n",
      "3800/3800 [==============================] - 3s 696us/step - loss: 0.2107 - accuracy: 0.6714 - val_loss: 0.2156 - val_accuracy: 0.6650\n"
     ]
    },
    {
     "data": {
      "text/plain": [
       "<tensorflow.python.keras.callbacks.History at 0x1ea5a023490>"
      ]
     },
     "execution_count": 232,
     "metadata": {},
     "output_type": "execute_result"
    }
   ],
   "source": [
    "#opt = tf.keras.optimizers.Adam(clipnorm=0.3)\n",
    "\n",
    "model = Sequential()\n",
    "#model.add(tf.keras.layers.Flatten())\n",
    "model.add(Dense(264, input_dim=264, kernel_initializer='normal', activation='relu', bias_regularizer=l2(0.02)))\n",
    "model.add(Dense(32, kernel_initializer='normal', activation='relu', bias_regularizer=l2(0.02)))\n",
    "model.add(Dense(32, kernel_initializer='normal', activation='relu', bias_regularizer=l2(0.02)))\n",
    "model.add(Dense(1, kernel_initializer='normal', activation='sigmoid'))\n",
    "model.compile(optimizer='Adam', loss='MeanSquaredError', metrics=['accuracy'])\n",
    "model.fit(X_train, y_train, batch_size= 3, epochs=5, validation_data=(X_test, y_test),callbacks=[tensorboard_callback])"
   ]
  },
  {
   "cell_type": "code",
   "execution_count": 233,
   "id": "165af7e1",
   "metadata": {},
   "outputs": [
    {
     "name": "stdout",
     "output_type": "stream",
     "text": [
      "90/90 [==============================] - 0s 644us/step - loss: 0.2156 - accuracy: 0.6650\n"
     ]
    }
   ],
   "source": [
    "val_loss, val_acc = model.evaluate(X_test, y_test)"
   ]
  },
  {
   "cell_type": "code",
   "execution_count": 234,
   "id": "19d8e0db",
   "metadata": {},
   "outputs": [],
   "source": [
    "prediction = model.predict(X_test[:])\n",
    "label = y_test[:]\n",
    "prediction_l = prediction.tolist()\n",
    "pred =pd.DataFrame(prediction_l, columns=['prediction'])\n"
   ]
  },
  {
   "cell_type": "code",
   "execution_count": 235,
   "id": "474c7959",
   "metadata": {},
   "outputs": [],
   "source": [
    "stats.reset_index\n",
    "index = stats[['GAME_DATE', 'HOME', 'AWAY','Odds1', 'Odds2', 'Score']]\n",
    "data = label.join(index)\n",
    "data.reset_index(inplace=True)\n",
    "pred_data = data.join(pred)\n",
    "pred_data.to_csv('predicted_data_custom.csv')"
   ]
  },
  {
   "cell_type": "code",
   "execution_count": null,
   "id": "a45e2edb",
   "metadata": {},
   "outputs": [],
   "source": []
  },
  {
   "cell_type": "code",
   "execution_count": null,
   "id": "0bcb3365",
   "metadata": {},
   "outputs": [],
   "source": []
  },
  {
   "cell_type": "code",
   "execution_count": null,
   "id": "35c56a6c",
   "metadata": {},
   "outputs": [],
   "source": []
  }
 ],
 "metadata": {
  "kernelspec": {
   "display_name": "Python 3",
   "language": "python",
   "name": "python3"
  },
  "language_info": {
   "codemirror_mode": {
    "name": "ipython",
    "version": 3
   },
   "file_extension": ".py",
   "mimetype": "text/x-python",
   "name": "python",
   "nbconvert_exporter": "python",
   "pygments_lexer": "ipython3",
   "version": "3.8.8"
  }
 },
 "nbformat": 4,
 "nbformat_minor": 5
}
