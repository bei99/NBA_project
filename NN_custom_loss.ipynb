{
 "cells": [
  {
   "cell_type": "code",
   "execution_count": 6,
   "id": "406d65e6",
   "metadata": {},
   "outputs": [],
   "source": [
    "import pandas as pd\n",
    "import tensorflow as tf\n",
    "import numpy as np\n",
    "from tensorflow.keras.models import Sequential\n",
    "from tensorflow.keras.layers import Dense, Dropout\n",
    "from tensorflow.keras.wrappers.scikit_learn import KerasRegressor\n",
    "from sklearn.model_selection import cross_val_score\n",
    "from sklearn.model_selection import KFold\n",
    "from sklearn.preprocessing import StandardScaler\n",
    "from sklearn.pipeline import Pipeline\n",
    "from sklearn.model_selection import train_test_split\n",
    "from tensorflow.keras.regularizers import l2\n",
    "from tensorflow.keras import backend as K\n",
    "from tensorflow.keras.callbacks import TensorBoard\n",
    "from tensorflow.keras.optimizers import Adam\n",
    "import pickle\n",
    "import time, datetime, os\n",
    "%reload_ext tensorboard"
   ]
  },
  {
   "cell_type": "code",
   "execution_count": 7,
   "id": "31b8de53",
   "metadata": {},
   "outputs": [],
   "source": [
    "NAME = \"264x32x16x1_MSE_sv{}\".format(int(time.time()))\n",
    "log_dir = \"logs/fit/\" + NAME\n",
    "tensorboard_callback = tf.keras.callbacks.TensorBoard(log_dir=log_dir, histogram_freq=1)\n",
    "stats = pd.read_csv(r'Data\\final_dataset.csv')\n",
    "#stats = stats.drop('Score',1)\n",
    "#stats['Results'] = pd.to_numeric(stats['Results'], errors='coerce')\n",
    "stats['Results'] = stats['Results'].astype('float32')\n"
   ]
  },
  {
   "cell_type": "code",
   "execution_count": 8,
   "id": "3d20c729",
   "metadata": {},
   "outputs": [],
   "source": [
    "X = stats.iloc[:,3:-4]\n",
    "y = stats.iloc[:,-1:]\n",
    "random_state = 12\n",
    "#split\n",
    "X_train, X_test, y_train, y_test = train_test_split(X, y, test_size = 0.2, shuffle = True, random_state=random_state)\n",
    "X_train = tf.keras.utils.normalize(X_train, axis=1)\n",
    "X_test = tf.keras.utils.normalize(X_test, axis=1)\n",
    "odds1 = stats.iloc[:, -3:-2].values\n",
    "odds1_prob = 1/odds1\n",
    "odds1_prob\n",
    "odds2 = stats.iloc[:, -2:-1].values\n"
   ]
  },
  {
   "cell_type": "code",
   "execution_count": 9,
   "id": "e2b1c754",
   "metadata": {},
   "outputs": [],
   "source": [
    "from tensorflow.python.ops import math_ops\n",
    "\n",
    "def coef_bce(y_pred,y_true, odds1, odds2):\n",
    "    return -1 * K.mean((odds1 * y_true -1) * K.log(odds1 * y_pred -1) + (odds2 * (1- y_true) -1) * K.log(odds2 * (1-y_pred)-1))\n",
    "\n",
    "def bce_custom(odds1, odds2):\n",
    "    def bce(y_pred, y_true):\n",
    "        return coef_bce(y_pred, y_true, odds1, odds2)\n",
    "    return bce\n",
    "\n",
    "loss_bce = bce_custom(odds1, odds2)\n",
    "\n",
    "def coef_mse(y_pred, y_true, odds_game):\n",
    "    #mse = K.square(y_pred - y_true)  #squared difference\n",
    "    #odds = 0.05 * K.square(y_pred - odds_game)   \n",
    "    #loss = K.mean(mse - odds , axis=-1) #mean over last dimension\n",
    "    return K.mean(K.square(y_pred - y_true) + 0.10 * K.square(y_pred- odds_game), axis=-1)\n",
    "def mse_custom(odds_game):\n",
    "    def mse(y_true, y_pred):\n",
    "        return coef_mse(y_pred, y_true, odds_game )\n",
    "    return mse\n",
    "\n",
    "\n",
    "loss_mse = mse_custom(odds1_prob)\n",
    "\n",
    "def mse_simple(y_true, y_pred):\n",
    "    mse = math_ops.squared_difference(y_pred, y_true) \n",
    "    loss = K.mean(mse, axis=-1)\n",
    "    return loss\n",
    "    "
   ]
  },
  {
   "cell_type": "code",
   "execution_count": 10,
   "id": "ccb922d0",
   "metadata": {},
   "outputs": [
    {
     "name": "stdout",
     "output_type": "stream",
     "text": [
      "Epoch 1/5\n",
      "    2/11440 [..............................] - ETA: 30:52 - loss: 0.2552 - accuracy: 0.5000 WARNING:tensorflow:Callbacks method `on_train_batch_end` is slow compared to the batch time (batch time: 0.0000s vs `on_train_batch_end` time: 0.3239s). Check your callbacks.\n",
      "11440/11440 [==============================] - 7s 631us/step - loss: 0.2295 - accuracy: 0.6455 - val_loss: 0.2194 - val_accuracy: 0.6598\n",
      "Epoch 2/5\n",
      "11440/11440 [==============================] - 7s 575us/step - loss: 0.2253 - accuracy: 0.6559 - val_loss: 0.2191 - val_accuracy: 0.6633\n",
      "Epoch 3/5\n",
      "11440/11440 [==============================] - 7s 573us/step - loss: 0.2233 - accuracy: 0.6605 - val_loss: 0.2176 - val_accuracy: 0.6629\n",
      "Epoch 4/5\n",
      "11440/11440 [==============================] - 7s 579us/step - loss: 0.2210 - accuracy: 0.6649 - val_loss: 0.2192 - val_accuracy: 0.6710\n",
      "Epoch 5/5\n",
      "11440/11440 [==============================] - 7s 573us/step - loss: 0.2198 - accuracy: 0.6661 - val_loss: 0.2193 - val_accuracy: 0.6766\n"
     ]
    },
    {
     "data": {
      "text/plain": [
       "<tensorflow.python.keras.callbacks.History at 0x1f0193e6dc0>"
      ]
     },
     "execution_count": 10,
     "metadata": {},
     "output_type": "execute_result"
    }
   ],
   "source": [
    "#opt = tf.keras.optimizers.Adam(clipnorm=0.3)\n",
    "\n",
    "model = Sequential()\n",
    "#model.add(tf.keras.layers.Flatten())\n",
    "model.add(Dense(264, input_dim=264, kernel_initializer='normal', activation='relu', bias_regularizer=l2(0.02)))\n",
    "model.add(Dense(32, kernel_initializer='normal', activation='relu', bias_regularizer=l2(0.02)))\n",
    "model.add(Dense(32, kernel_initializer='normal', activation='relu', bias_regularizer=l2(0.02)))\n",
    "model.add(Dense(1, kernel_initializer='normal', activation='sigmoid'))\n",
    "model.compile(optimizer='Adam', loss=loss_mse, metrics=['accuracy'])\n",
    "model.fit(X_train, y_train, batch_size= 1, epochs=5, validation_data=(X_test, y_test),callbacks=[tensorboard_callback])"
   ]
  },
  {
   "cell_type": "code",
   "execution_count": 309,
   "id": "165af7e1",
   "metadata": {},
   "outputs": [],
   "source": [
    "#val_loss, val_acc = model.evaluate(X_test, y_test)"
   ]
  },
  {
   "cell_type": "code",
   "execution_count": 310,
   "id": "19d8e0db",
   "metadata": {},
   "outputs": [],
   "source": [
    "prediction = model.predict(X_test[:])\n",
    "label = y_test[:]\n",
    "prediction_l = prediction.tolist()\n",
    "pred =pd.DataFrame(prediction_l, columns=['prediction'])\n"
   ]
  },
  {
   "cell_type": "code",
   "execution_count": 311,
   "id": "474c7959",
   "metadata": {},
   "outputs": [],
   "source": [
    "stats.reset_index\n",
    "index = stats[['GAME_DATE', 'HOME', 'AWAY','Odds1', 'Odds2', 'Score']]\n",
    "data = label.join(index)\n",
    "data.reset_index(inplace=True)\n",
    "pred_data = data.join(pred)\n",
    "pred_data.to_csv('predicted_data_custom.csv')"
   ]
  }
 ],
 "metadata": {
  "kernelspec": {
   "display_name": "Python 3",
   "language": "python",
   "name": "python3"
  },
  "language_info": {
   "codemirror_mode": {
    "name": "ipython",
    "version": 3
   },
   "file_extension": ".py",
   "mimetype": "text/x-python",
   "name": "python",
   "nbconvert_exporter": "python",
   "pygments_lexer": "ipython3",
   "version": "3.8.8"
  }
 },
 "nbformat": 4,
 "nbformat_minor": 5
}
