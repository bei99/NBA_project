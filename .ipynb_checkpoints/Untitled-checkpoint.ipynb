{
 "cells": [
  {
   "cell_type": "code",
   "execution_count": 2,
   "id": "9dfdc910",
   "metadata": {},
   "outputs": [],
   "source": [
    "import pandas as pd\n",
    "data = pd.read_csv(r'Data\\final_dataset.csv')"
   ]
  },
  {
   "cell_type": "code",
   "execution_count": 3,
   "id": "32d634c7",
   "metadata": {},
   "outputs": [
    {
     "name": "stdout",
     "output_type": "stream",
     "text": [
      "False\n"
     ]
    },
    {
     "name": "stderr",
     "output_type": "stream",
     "text": [
      "<ipython-input-3-6a1354724dd4>:1: FutureWarning: elementwise comparison failed; returning scalar instead, but in the future will perform elementwise comparison\n",
      "  print('0' in data['Odds1'].unique())\n"
     ]
    }
   ],
   "source": [
    "print('0' in data['Odds1'].unique())"
   ]
  },
  {
   "cell_type": "code",
   "execution_count": null,
   "id": "edaf7b1a",
   "metadata": {},
   "outputs": [],
   "source": [
    "'''\n",
    "# Data Split chronologically\n",
    "# Randomised and Normalised data\n",
    "train_set, test_set= np.split(stats, [int(.80 *len(stats))])\n",
    "train_set = train_set.values\n",
    "np.random.shuffle(train_set)\n",
    "X_train = train_set[:, 3:-4]\n",
    "y_train = train_set[:, -1:]\n",
    "X_test = test_set.iloc[:,3:-4]\n",
    "y_test = test_set.iloc[:,-1:]\n",
    "\n",
    "X_train = np.asarray(X_train).astype(np.float32)\n",
    "X_test = np.asarray(X_test).astype(np.float32)\n",
    "y_train = np.asarray(y_train).astype(np.float32)\n",
    "y_test = np.asarray(y_test).astype(np.float32)\n",
    "\n",
    "X_train = tf.keras.utils.normalize(X_train, axis=1)\n",
    "'''\n"
   ]
  }
 ],
 "metadata": {
  "kernelspec": {
   "display_name": "Python 3",
   "language": "python",
   "name": "python3"
  },
  "language_info": {
   "codemirror_mode": {
    "name": "ipython",
    "version": 3
   },
   "file_extension": ".py",
   "mimetype": "text/x-python",
   "name": "python",
   "nbconvert_exporter": "python",
   "pygments_lexer": "ipython3",
   "version": "3.8.8"
  }
 },
 "nbformat": 4,
 "nbformat_minor": 5
}
