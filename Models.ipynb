{
 "cells": [
  {
   "cell_type": "code",
   "execution_count": 1,
   "id": "c9a1d3e2",
   "metadata": {},
   "outputs": [],
   "source": [
    "import pandas as pd\n",
    "import numpy as np\n",
    "import matplotlib.pyplot as plt\n",
    "from sklearn.linear_model import LogisticRegression\n",
    "from sklearn.model_selection import train_test_split"
   ]
  },
  {
   "cell_type": "code",
   "execution_count": 2,
   "id": "8b1c28a4",
   "metadata": {
    "scrolled": true
   },
   "outputs": [
    {
     "name": "stdout",
     "output_type": "stream",
     "text": [
      "['GAME_DATE' 'HOME' 'AWAY' 'AST' 'BLK' 'DREB' 'FG_PCT' 'FG3_PCT' 'FG3A'\n",
      " 'FG3M' 'FGA' 'FGM' 'FT_PCT' 'FTA' 'FTM' 'OREB' 'PF' 'PLUS_MINUS' 'PTS'\n",
      " 'REB' 'STL' 'TOV' 'AST_PCT' 'AST_RATIO' 'AST_TO' 'DEF_RATING' 'DREB_PCT'\n",
      " 'EFG_PCT' 'E_DEF_RATING' 'E_NET_RATING' 'E_OFF_RATING' 'NET_RATING'\n",
      " 'OFF_RATING' 'OREB_PCT' 'PIE' 'POSS' 'REB_PCT' 'TM_TOV_PCT' 'TS_PCT'\n",
      " 'PCT_AST_2PM' 'PCT_AST_3PM' 'PCT_AST_FGM' 'PCT_FGA_2PT' 'PCT_FGA_3PT'\n",
      " 'PCT_PTS_2PT' 'PCT_PTS_2PT_MR' 'PCT_PTS_3PT' 'PCT_PTS_FB' 'PCT_PTS_FT'\n",
      " 'PCT_PTS_OFF_TOV' 'PCT_PTS_PAINT' 'PCT_UAST_2PM' 'PCT_UAST_3PM'\n",
      " 'PCT_UAST_FGM' 'FTA_RATE' 'OPP_EFG_PCT' 'OPP_FTA_RATE' 'OPP_OREB_PCT'\n",
      " 'OPP_TOV_PCT' 'OPP_PTS_2ND_CHANCE' 'OPP_PTS_FB' 'OPP_PTS_OFF_TOV'\n",
      " 'OPP_PTS_PAINT' 'PTS_2ND_CHANCE' 'PTS_FB' 'PTS_OFF_TOV' 'PTS_PAINT'\n",
      " 'Results']\n",
      "68\n"
     ]
    },
    {
     "name": "stderr",
     "output_type": "stream",
     "text": [
      "C:\\Users\\Bei\\anaconda3\\lib\\site-packages\\IPython\\core\\interactiveshell.py:3165: DtypeWarning: Columns (70,71) have mixed types.Specify dtype option on import or set low_memory=False.\n",
      "  has_raised = await self.run_ast_nodes(code_ast.body, cell_name,\n"
     ]
    }
   ],
   "source": [
    "stats = pd.read_csv(r'Data\\final_dataset_wma.csv')\n",
    "stats = stats.drop('PACE',1)\n",
    "stats = stats.drop('E_PACE', 1)\n",
    "stats = stats.drop('Score',1)\n",
    "stats = stats.drop('Odds1',1)\n",
    "stats = stats.drop('Odds2',1)\n",
    "print(stats.columns.values)\n",
    "print(len(stats.columns.values))"
   ]
  },
  {
   "cell_type": "code",
   "execution_count": 3,
   "id": "b10ada48",
   "metadata": {},
   "outputs": [],
   "source": [
    "X = stats.iloc[:,3:-1]\n",
    "y = stats.iloc[:,-1]"
   ]
  },
  {
   "cell_type": "code",
   "execution_count": 4,
   "id": "164cdeb6",
   "metadata": {},
   "outputs": [
    {
     "data": {
      "text/plain": [
       "0.6008105369807497"
      ]
     },
     "execution_count": 4,
     "metadata": {},
     "output_type": "execute_result"
    }
   ],
   "source": [
    "random_state = 12\n",
    "#split\n",
    "X_train, X_test, y_train, y_test = train_test_split(X, y, test_size = 0.3, shuffle = True, random_state=random_state)\n",
    "\n",
    "#train model\n",
    "log_reg = LogisticRegression(max_iter = 5000)\n",
    "log_reg.fit(X_train, y_train)\n",
    "\n",
    "#evaluate\n",
    "log_reg.score(X_test, y_test)"
   ]
  },
  {
   "cell_type": "code",
   "execution_count": 5,
   "id": "ba0ff5b6",
   "metadata": {},
   "outputs": [
    {
     "data": {
      "text/plain": [
       "Results               1.000000\n",
       "PLUS_MINUS            0.189388\n",
       "NET_RATING            0.186281\n",
       "E_NET_RATING          0.184787\n",
       "PIE                   0.177297\n",
       "                        ...   \n",
       "OPP_PTS_2ND_CHANCE    0.008731\n",
       "FGA                   0.006839\n",
       "POSS                  0.006399\n",
       "PCT_PTS_2PT_MR        0.004903\n",
       "PTS_2ND_CHANCE        0.002273\n",
       "Name: Results, Length: 65, dtype: float64"
      ]
     },
     "execution_count": 5,
     "metadata": {},
     "output_type": "execute_result"
    }
   ],
   "source": [
    "stats_corr = stats.corr()['Results']. abs().sort_values(ascending=False)\n",
    "stats_corr"
   ]
  },
  {
   "cell_type": "code",
   "execution_count": 6,
   "id": "3cfbd2bc",
   "metadata": {},
   "outputs": [
    {
     "data": {
      "text/plain": [
       "PCA()"
      ]
     },
     "execution_count": 6,
     "metadata": {},
     "output_type": "execute_result"
    }
   ],
   "source": [
    "from sklearn.decomposition import PCA\n",
    "components = None\n",
    "pca = PCA(n_components = components)\n",
    "X = stats.iloc[:,3:-1]\n",
    "pca.fit(X)"
   ]
  },
  {
   "cell_type": "code",
   "execution_count": 7,
   "id": "abfbd30f",
   "metadata": {},
   "outputs": [
    {
     "name": "stdout",
     "output_type": "stream",
     "text": [
      "Variance (Percentage):\n",
      "[2.03815104e+01 1.50610578e+01 1.15565853e+01 1.07899960e+01\n",
      " 6.40728431e+00 6.19660272e+00 4.28583499e+00 4.18857846e+00\n",
      " 3.60131818e+00 3.17003615e+00 2.89125371e+00 2.77228286e+00\n",
      " 1.95448880e+00 1.74313076e+00 1.13407083e+00 8.57495003e-01\n",
      " 5.56126700e-01 4.65133647e-01 4.39569705e-01 3.96240461e-01\n",
      " 3.66845100e-01 1.99622666e-01 1.43306008e-01 9.40977988e-02\n",
      " 7.26482552e-02 5.91098352e-02 4.39436329e-02 4.31064162e-02\n",
      " 2.68361164e-02 2.27087239e-02 1.56258771e-02 1.43548092e-02\n",
      " 1.09082120e-02 8.52504188e-03 7.64959335e-03 6.13246046e-03\n",
      " 4.14722942e-03 3.52088744e-03 2.56136565e-03 2.07401095e-03\n",
      " 1.29142407e-03 8.21023786e-04 5.49954586e-04 3.74813470e-04\n",
      " 2.79120521e-04 1.04093642e-04 7.98320070e-05 6.39170602e-05\n",
      " 3.71649446e-05 3.47570877e-05 1.44767224e-05 1.17175751e-05\n",
      " 6.10960211e-06 5.48823323e-06 1.42952266e-06 1.15910678e-06\n",
      " 8.19490041e-07 7.63762053e-07 6.03823507e-07 4.85353737e-07\n",
      " 1.90080243e-09 1.70950928e-31 1.70950928e-31 1.70950928e-31]\n"
     ]
    }
   ],
   "source": [
    "print(\"Variance (Percentage):\")\n",
    "print(pca.explained_variance_ratio_ * 100)"
   ]
  },
  {
   "cell_type": "code",
   "execution_count": 8,
   "id": "42bbb4cd",
   "metadata": {},
   "outputs": [
    {
     "name": "stdout",
     "output_type": "stream",
     "text": [
      "Cumulative Variances (Percentage):\n",
      "[ 20.38151042  35.44256825  46.99915357  57.78914953  64.19643384\n",
      "  70.39303655  74.67887154  78.86745     82.46876819  85.63880434\n",
      "  88.53005804  91.3023409   93.2568297   94.99996046  96.13403129\n",
      "  96.99152629  97.54765299  98.01278664  98.45235634  98.8485968\n",
      "  99.2154419   99.41506457  99.55837058  99.65246838  99.72511663\n",
      "  99.78422647  99.8281701   99.87127652  99.89811263  99.92082136\n",
      "  99.93644723  99.95080204  99.96171025  99.9702353   99.97788489\n",
      "  99.98401735  99.98816458  99.99168547  99.99424683  99.99632084\n",
      "  99.99761227  99.99843329  99.99898325  99.99935806  99.99963718\n",
      "  99.99974127  99.99982111  99.99988502  99.99992219  99.99995694\n",
      "  99.99997142  99.99998314  99.99998925  99.99999474  99.99999617\n",
      "  99.99999733  99.99999815  99.99999891  99.99999951 100.\n",
      " 100.         100.         100.         100.        ]\n",
      "\n"
     ]
    }
   ],
   "source": [
    "print(\"Cumulative Variances (Percentage):\")\n",
    "print(pca.explained_variance_ratio_.cumsum() * 100)\n",
    "print()"
   ]
  },
  {
   "cell_type": "code",
   "execution_count": 9,
   "id": "38fef146",
   "metadata": {},
   "outputs": [
    {
     "data": {
      "text/plain": [
       "Text(0, 0.5, 'Explained variance (%)')"
      ]
     },
     "execution_count": 9,
     "metadata": {},
     "output_type": "execute_result"
    },
    {
     "data": {
      "image/png": "[encoded data removed]",
      "text/plain": [
       "<Figure size 432x288 with 1 Axes>"
      ]
     },
     "metadata": {
      "needs_background": "light"
     },
     "output_type": "display_data"
    }
   ],
   "source": [
    "# plot a scree plot\n",
    "components = len(pca.explained_variance_ratio_) \\\n",
    "    if components is None else components\n",
    "plt.plot(range(1,components+1), \n",
    "         np.cumsum(pca.explained_variance_ratio_ * 100))\n",
    "plt.xlabel(\"Number of components\")\n",
    "plt.ylabel(\"Explained variance (%)\")"
   ]
  },
  {
   "cell_type": "code",
   "execution_count": 10,
   "id": "4f61b347",
   "metadata": {},
   "outputs": [
    {
     "name": "stdout",
     "output_type": "stream",
     "text": [
      "Cumulative Variances (Percentage):\n",
      "[20.38151042 35.44256825 46.99915357 57.78914953 64.19643384 70.39303655\n",
      " 74.67887154 78.86745    82.46876819 85.63880434 88.53005804 91.3023409\n",
      " 93.2568297  94.99996046 96.13403129]\n",
      "Number of components: 15\n"
     ]
    },
    {
     "data": {
      "text/plain": [
       "Text(0, 0.5, 'Explained variance (%)')"
      ]
     },
     "execution_count": 10,
     "metadata": {},
     "output_type": "execute_result"
    },
    {
     "data": {
      "image/png": "[encoded data removed]",
      "text/plain": [
       "<Figure size 432x288 with 1 Axes>"
      ]
     },
     "metadata": {
      "needs_background": "light"
     },
     "output_type": "display_data"
    }
   ],
   "source": [
    "from sklearn.decomposition import PCA\n",
    "pca = PCA(n_components = 0.95)\n",
    "pca.fit(X)\n",
    "print(\"Cumulative Variances (Percentage):\")\n",
    "print(np.cumsum(pca.explained_variance_ratio_ * 100))\n",
    "components = len(pca.explained_variance_ratio_)\n",
    "print(f'Number of components: {components}')\n",
    "# Make the scree plot\n",
    "plt.plot(range(1, components + 1), np.cumsum(pca.explained_variance_ratio_ * 100))\n",
    "plt.xlabel(\"Number of components\")\n",
    "plt.ylabel(\"Explained variance (%)\")"
   ]
  },
  {
   "cell_type": "code",
   "execution_count": 11,
   "id": "b56809ef",
   "metadata": {},
   "outputs": [
    {
     "name": "stdout",
     "output_type": "stream",
     "text": [
      "[[2.98298750e-02 2.61413668e-03 1.10256738e-02 2.08363408e-04\n",
      "  2.76382705e-04 2.71258921e-02 1.61550046e-02 4.62089779e-03\n",
      "  1.52634995e-02 8.54972281e-05 9.42305666e-04 9.60065788e-04\n",
      "  7.75223212e-03 3.82886100e-03 7.46653049e-02 4.76420694e-02\n",
      "  3.27344164e-03 3.43417138e-03 2.52730032e-03 2.52832421e-01\n",
      "  2.89392006e-01 1.65924379e-01 1.29808785e-01 2.36428119e-02\n",
      "  2.20657840e-01 1.35912447e-01 2.61115401e-01 2.01728817e-01\n",
      "  2.55375935e-01 1.91920316e-01 6.34202642e-02 2.65745313e-01\n",
      "  2.27281583e-02 4.69209376e-02 3.89857313e-02 2.19454979e-01\n",
      "  2.15983743e-01 4.74147543e-02 2.52832421e-01 1.65352820e-01\n",
      "  1.65366124e-01 1.38392439e-01 7.10076441e-02 1.63623080e-01\n",
      "  5.48272559e-02 5.67561037e-02 1.72002844e-02 9.02527466e-02\n",
      "  2.15983561e-01 4.33100506e-02 2.52839829e-01 3.86191407e-03\n",
      "  1.15172954e-01 3.93285170e-02 2.36415104e-02 3.61624074e-02\n",
      "  9.38042258e-03 5.61967346e-02 5.70819313e-02 5.96595241e-02\n",
      "  5.68935012e-02 1.01252524e-01 7.71133886e-02 1.57930384e-02]\n",
      " [2.02445168e-02 1.13820251e-03 6.30075225e-03 1.76499751e-05\n",
      "  1.81854672e-04 5.04450212e-02 2.21505322e-02 5.68519723e-03\n",
      "  4.19974630e-03 7.24505567e-05 9.31637166e-03 8.54655637e-03\n",
      "  1.20237337e-03 1.78252273e-04 3.04110761e-02 2.22975959e-02\n",
      "  5.09837887e-03 4.23061112e-03 4.36436929e-03 2.18396823e-01\n",
      "  1.79008218e-01 6.12931465e-02 1.35961542e-02 4.06988635e-02\n",
      "  8.45695992e-02 1.74657553e-02 1.04424805e-01 1.17519428e-01\n",
      "  1.03683632e-01 1.17027475e-01 1.44547875e-02 4.60781751e-02\n",
      "  3.23742473e-02 3.23530432e-02 4.89274588e-02 9.96055865e-02\n",
      "  2.86329389e-01 1.57752706e-01 2.18396823e-01 3.05716948e-01\n",
      "  3.05728034e-01 3.11878389e-01 1.23110306e-01 2.76101726e-01\n",
      "  1.40079641e-01 4.01458082e-02 8.07021454e-02 2.38903077e-01\n",
      "  2.86318236e-01 1.71088215e-01 2.18401789e-01 6.40130579e-02\n",
      "  3.51171819e-02 1.88437240e-02 4.06989133e-02 7.83422988e-02\n",
      "  1.39966750e-02 3.84269966e-02 4.94720226e-02 3.34449861e-02\n",
      "  3.50163093e-03 1.13177495e-01 5.27682552e-02 1.66934106e-01]\n",
      " [5.86844239e-03 4.63832024e-03 1.34358371e-02 1.85566502e-04\n",
      "  1.53075233e-06 3.96736183e-02 1.36341094e-02 4.88852667e-03\n",
      "  1.80326744e-02 1.97772901e-05 1.28862675e-02 1.02834333e-02\n",
      "  9.80733318e-03 2.46478219e-03 7.60189963e-02 3.27146727e-02\n",
      "  2.32431703e-02 3.75237954e-03 4.69889932e-03 2.05070067e-01\n",
      "  6.96129043e-02 1.05695643e-02 1.67030445e-01 6.74451246e-02\n",
      "  7.38715381e-02 1.71114968e-01 2.53410687e-01 1.56513753e-01\n",
      "  2.59605322e-01 1.60013468e-01 1.80056529e-01 2.54326776e-01\n",
      "  2.54045566e-02 2.36855870e-01 5.24157187e-02 8.72753978e-02\n",
      "  1.41025921e-01 2.84136981e-02 2.05070067e-01 2.40518390e-01\n",
      "  2.40533426e-01 2.10287518e-01 5.18551937e-02 2.24127569e-01\n",
      "  7.16196425e-02 4.18658489e-02 3.73431971e-02 1.91011214e-01\n",
      "  1.41039692e-01 2.28869256e-02 2.05063932e-01 7.00600154e-02\n",
      "  1.42531987e-01 3.19141260e-02 6.74449776e-02 3.31500688e-02\n",
      "  5.88713512e-02 7.61048846e-02 9.83728045e-02 9.44742723e-02\n",
      "  1.26621826e-01 1.00951174e-01 7.81269855e-02 2.34151770e-01]\n",
      " [5.72234467e-03 1.99237705e-03 8.73224595e-03 8.48868674e-05\n",
      "  2.14068777e-06 2.42410008e-02 8.58282455e-03 1.92235396e-02\n",
      "  1.61029331e-02 1.09086736e-04 2.61016953e-02 1.74233226e-02\n",
      "  5.59060533e-03 1.24312262e-02 1.20058538e-02 5.82120133e-02\n",
      "  3.14164061e-03 1.09648374e-02 1.29455053e-02 4.82182707e-02\n",
      "  2.92734362e-02 8.60346379e-02 1.34697014e-01 1.56863699e-01\n",
      "  9.17264681e-02 1.29763040e-01 4.00875886e-02 7.78937193e-02\n",
      "  3.93306563e-02 8.51431827e-02 5.04811189e-02 5.93905576e-02\n",
      "  2.83561295e-01 8.65419869e-02 9.62937891e-02 1.01853292e-01\n",
      "  4.37248631e-02 7.21691285e-02 4.82182707e-02 1.09543779e-01\n",
      "  1.09532804e-01 9.04741727e-02 3.04064570e-01 5.20681558e-02\n",
      "  3.49784134e-01 6.24456296e-02 1.23590223e-01 1.88970030e-01\n",
      "  4.37325319e-02 7.55081503e-02 4.82109001e-02 1.22288408e-01\n",
      "  1.19153359e-01 7.63793572e-02 1.56864281e-01 1.16561830e-01\n",
      "  1.52109612e-01 1.50623271e-01 1.73362102e-01 1.94546434e-01\n",
      "  7.45038280e-02 3.89524079e-01 1.95808092e-01 2.80050825e-01]\n",
      " [1.48595763e-02 3.61585015e-03 7.02335612e-03 2.45839000e-04\n",
      "  2.32213633e-04 1.26795401e-02 1.65931173e-03 1.57717163e-02\n",
      "  2.80695565e-02 1.90890519e-04 2.07895470e-03 2.97167192e-03\n",
      "  6.82963519e-04 8.24564253e-03 1.25245148e-02 6.07700966e-02\n",
      "  6.34039260e-03 1.51620417e-02 1.56161313e-02 1.92807532e-02\n",
      "  1.42192970e-01 2.20161305e-01 3.25312000e-01 2.45479554e-02\n",
      "  1.78454409e-01 3.26135395e-01 4.73212218e-02 2.64949939e-01\n",
      "  4.45382531e-02 2.69175958e-01 4.41299974e-02 3.52898711e-02\n",
      "  5.50843667e-03 2.78675171e-02 1.98337790e-01 1.82381812e-01\n",
      "  3.11232559e-02 8.00420126e-02 1.92807532e-02 9.95663884e-02\n",
      "  9.95856225e-02 8.75995650e-02 1.13475142e-01 4.96007768e-02\n",
      "  1.21862977e-01 6.20826464e-02 2.99830203e-01 8.94140774e-03\n",
      "  3.11158588e-02 8.61448033e-02 1.92688951e-02 4.01761288e-02\n",
      "  2.02207832e-01 7.30212538e-02 2.45426600e-02 3.32478817e-01\n",
      "  9.08541822e-02 6.52404451e-02 4.97081168e-02 2.13287574e-01\n",
      "  7.20118227e-02 6.24188905e-02 2.17553422e-01 1.13998573e-01]\n",
      " [2.68886903e-03 8.93129216e-04 2.09611694e-02 7.65882218e-05\n",
      "  1.18397929e-04 1.16748052e-02 1.14084105e-03 7.05809848e-03\n",
      "  9.52311419e-03 2.12007382e-04 2.24903830e-02 1.20581781e-02\n",
      "  1.75173355e-02 1.52061290e-03 5.30826446e-03 5.84720918e-03\n",
      "  3.84785050e-02 1.04205297e-02 2.27638172e-02 1.02103379e-01\n",
      "  2.42241267e-02 1.91292273e-01 1.50627359e-02 2.19349073e-01\n",
      "  4.58689820e-02 4.19541684e-03 4.36742891e-02 6.07039281e-02\n",
      "  2.01880521e-02 4.05122265e-02 2.85466824e-01 1.32129548e-02\n",
      "  2.87982066e-02 3.74866905e-01 2.84555893e-01 3.65246150e-02\n",
      "  8.05678030e-02 5.27086484e-02 1.02103379e-01 8.12367176e-02\n",
      "  8.12343295e-02 8.78064215e-02 3.08135341e-01 2.35215027e-02\n",
      "  1.12006810e-01 1.09690466e-01 2.07122953e-01 1.96057396e-01\n",
      "  8.05760804e-02 5.56367773e-02 1.02099442e-01 1.45261664e-01\n",
      "  2.29270595e-02 6.28663953e-02 2.19354654e-01 2.41757305e-01\n",
      "  1.38658738e-01 4.49566386e-02 2.17928328e-01 3.80246951e-03\n",
      "  1.99253676e-01 1.12335292e-01 2.11200766e-01 1.58916134e-01]\n",
      " [4.81101571e-03 1.88384877e-03 3.91117157e-02 4.23497277e-05\n",
      "  5.13968211e-05 1.66938778e-02 5.04244179e-03 3.68733976e-02\n",
      "  1.38128868e-02 8.95158873e-05 3.60832567e-02 2.95999209e-02\n",
      "  6.40605451e-03 9.39826288e-03 2.17253357e-03 3.06829447e-03\n",
      "  3.27056612e-02 6.14952893e-03 1.64643648e-03 4.23000527e-02\n",
      "  2.44239936e-03 1.23255224e-02 1.21917192e-01 2.34384132e-01\n",
      "  2.35239543e-02 1.03910159e-01 1.31848450e-02 1.20980179e-01\n",
      "  1.06328492e-02 1.35317170e-01 1.98638975e-01 2.75902590e-02\n",
      "  2.44609611e-01 5.26867468e-02 3.75125959e-02 8.53216429e-02\n",
      "  2.52960206e-02 2.28544470e-01 4.23000527e-02 3.39611736e-02\n",
      "  3.39310994e-02 8.33221248e-02 1.20092206e-01 5.83422490e-02\n",
      "  3.47882125e-01 2.50404384e-01 2.00018559e-01 2.01391976e-02\n",
      "  2.52803441e-02 2.32844222e-01 4.23046270e-02 2.75698923e-01\n",
      "  1.20582705e-01 1.27913396e-01 2.34377660e-01 2.25551134e-01\n",
      "  1.01536970e-01 1.17846546e-01 5.73042720e-03 8.39155058e-03\n",
      "  1.23668263e-01 3.38031440e-01 1.90024740e-01 1.02652557e-02]\n",
      " [7.88534045e-03 5.12921744e-03 9.27905015e-03 5.49184222e-05\n",
      "  5.51399461e-05 3.06942966e-02 1.15022180e-02 3.14230207e-02\n",
      "  1.88746111e-02 3.59000506e-04 6.57336038e-02 5.85464027e-02\n",
      "  4.00879065e-03 7.91529404e-03 4.24482935e-03 9.29496264e-03\n",
      "  5.27025950e-03 3.24918344e-03 5.74724597e-03 3.80588482e-02\n",
      "  8.49675161e-02 9.23633809e-02 2.23464550e-02 5.73242140e-02\n",
      "  7.64850098e-02 3.13346575e-02 2.74640954e-02 4.21540921e-03\n",
      "  1.36467360e-02 5.12670566e-03 1.81668943e-02 6.33878303e-02\n",
      "  7.39822843e-02 1.19833442e-02 5.75762705e-02 4.85225176e-02\n",
      "  1.80332596e-01 2.81047931e-01 3.80588482e-02 1.31834787e-01\n",
      "  1.31849197e-01 9.11908412e-02 1.79569486e-01 1.76032050e-01\n",
      "  8.33564821e-02 4.77614326e-01 8.04543864e-02 2.77317197e-01\n",
      "  1.80327701e-01 2.81770312e-01 3.80461928e-02 4.40478540e-01\n",
      "  9.90112074e-02 3.26494335e-02 5.73425939e-02 7.59664199e-02\n",
      "  8.93620691e-02 4.94270205e-02 6.12968572e-02 2.96106742e-02\n",
      "  6.06903029e-02 8.76408582e-02 6.62908041e-02 2.21646313e-01]\n",
      " [2.45156793e-03 4.21787909e-04 1.80041900e-02 1.25418699e-04\n",
      "  1.28871452e-04 1.71441258e-02 3.65754746e-03 2.70715986e-02\n",
      "  1.33137367e-03 8.63778394e-05 2.93405392e-02 2.46622646e-02\n",
      "  2.26576885e-02 8.96783422e-04 4.86421385e-03 1.83419698e-02\n",
      "  4.65349845e-03 4.95912170e-03 4.54357618e-03 2.41269150e-02\n",
      "  7.95064820e-03 5.65597046e-02 9.53154813e-03 1.02950967e-01\n",
      "  9.24800145e-02 1.42594213e-02 4.81872477e-03 2.06210136e-02\n",
      "  1.40278185e-02 8.17634839e-03 2.97470970e-01 3.35240489e-02\n",
      "  1.57889225e-01 6.13262668e-02 2.27017182e-02 1.41087540e-01\n",
      "  1.92111860e-01 4.90065521e-01 2.41269150e-02 5.08112053e-02\n",
      "  5.07955369e-02 4.02050262e-02 5.33218774e-02 5.97802024e-02\n",
      "  1.26111575e-01 1.78056934e-01 1.51167779e-01 9.74612290e-02\n",
      "  1.92100062e-01 4.90735666e-01 2.41291944e-02 2.19129338e-01\n",
      "  1.74719849e-02 2.29142406e-02 1.02974079e-01 1.53978411e-01\n",
      "  1.96549407e-02 3.24694278e-02 5.29193267e-02 4.15906001e-02\n",
      "  2.44578263e-01 1.38306919e-01 1.20522647e-01 4.21091353e-02]\n",
      " [6.54432127e-03 9.13770986e-03 1.23588150e-02 1.32847393e-04\n",
      "  6.05334793e-05 1.13852237e-02 6.31883476e-03 3.86082607e-02\n",
      "  6.76763186e-03 1.08920308e-04 9.49563367e-03 9.98401693e-03\n",
      "  2.33781469e-02 1.07818521e-02 4.08778939e-03 2.98381154e-02\n",
      "  1.10193318e-02 8.10943289e-03 8.42218084e-03 3.02011932e-02\n",
      "  8.70500423e-03 1.19632328e-01 1.20247209e-01 2.60264095e-01\n",
      "  8.75292273e-02 1.45807571e-01 5.32479879e-02 7.69725884e-02\n",
      "  2.03592947e-02 9.45909994e-02 2.67110948e-01 8.98711268e-02\n",
      "  5.59152429e-02 2.24384467e-01 1.22324774e-01 7.30667183e-02\n",
      "  1.83620984e-02 9.53864218e-02 3.02011932e-02 6.12801132e-04\n",
      "  5.84147998e-04 7.54603086e-02 2.21664168e-01 4.82750413e-02\n",
      "  1.66012765e-01 4.33280120e-02 1.79148317e-01 2.99922492e-01\n",
      "  1.83532533e-02 9.55059460e-02 3.02016470e-02 7.85301723e-03\n",
      "  2.73331770e-01 1.83942424e-01 2.60270890e-01 1.32570142e-01\n",
      "  2.65748322e-01 9.82562513e-02 4.57738237e-02 5.24140152e-02\n",
      "  2.62582370e-01 1.89558065e-01 2.12329338e-01 1.99710821e-01]\n",
      " [7.96438982e-03 4.41587786e-03 1.66856833e-03 2.57552397e-04\n",
      "  4.33626610e-04 1.48184113e-02 5.73032481e-03 1.23396294e-02\n",
      "  1.63069789e-02 1.32469257e-04 4.21877963e-02 2.89266336e-02\n",
      "  2.15898818e-03 1.08103621e-02 1.08043460e-02 9.41764897e-03\n",
      "  4.90419846e-04 5.09096611e-04 3.42366791e-02 2.23364926e-02\n",
      "  6.61007011e-02 2.85315108e-01 1.37583371e-02 1.40496208e-01\n",
      "  2.19317795e-01 2.14022217e-02 4.28916164e-02 3.41554733e-02\n",
      "  3.70788418e-02 3.30011712e-02 1.56378801e-01 4.59713735e-02\n",
      "  1.80582111e-02 1.17614840e-01 4.35434932e-01 1.79312117e-01\n",
      "  4.27726501e-02 3.85196819e-02 2.23364926e-02 6.61999984e-02\n",
      "  6.61804260e-02 8.20255542e-02 3.29943646e-01 6.04943854e-02\n",
      "  3.86371626e-02 2.52015759e-01 6.95015145e-03 2.23619093e-01\n",
      "  4.27838116e-02 3.72131233e-02 2.23379880e-02 2.30193921e-01\n",
      "  8.57607053e-02 8.68680194e-02 1.40482744e-01 1.26913860e-02\n",
      "  1.19886739e-01 1.59042982e-01 3.91620495e-01 8.35978508e-02\n",
      "  4.58392728e-02 2.30608529e-02 1.67266538e-02 1.76334175e-01]\n",
      " [4.31082642e-04 1.08206376e-02 1.16884559e-02 3.25672747e-04\n",
      "  1.42824605e-04 2.17634591e-02 4.62215296e-03 4.69740428e-02\n",
      "  4.66602650e-03 7.38452302e-05 6.77174367e-04 9.15152420e-04\n",
      "  3.06064810e-02 3.52220798e-03 1.23934278e-02 5.62505246e-03\n",
      "  4.22949369e-02 6.99364292e-03 1.22571344e-02 4.06933150e-02\n",
      "  6.44316696e-02 1.12606126e-01 7.36240799e-02 2.62670204e-01\n",
      "  2.28991924e-01 9.52510286e-02 3.89323046e-02 4.48632099e-02\n",
      "  4.29757055e-02 1.94534763e-02 3.04214013e-01 2.31544658e-02\n",
      "  1.28212463e-02 1.75449759e-02 1.54075558e-01 2.38814600e-01\n",
      "  4.50588647e-02 1.87500129e-01 4.06933150e-02 4.69216240e-02\n",
      "  4.68927796e-02 7.43375300e-02 2.85991637e-02 7.03814323e-02\n",
      "  1.67735967e-01 1.37657606e-03 1.69005152e-01 1.12815699e-01\n",
      "  4.50576776e-02 1.84973138e-01 4.06981227e-02 7.36280244e-02\n",
      "  2.52732457e-01 1.03697801e-01 2.62683907e-01 1.57604265e-01\n",
      "  3.02220735e-01 7.66519206e-03 1.62723397e-01 1.01234773e-01\n",
      "  3.62670402e-01 1.61967956e-01 1.66919419e-01 9.94817240e-02]\n",
      " [1.13611177e-02 6.00752883e-04 2.29769349e-02 1.58459904e-04\n",
      "  9.02094744e-05 1.35590515e-02 2.99199204e-03 6.07602535e-02\n",
      "  1.90627556e-02 1.21968145e-04 1.25454364e-02 1.47243928e-02\n",
      "  5.41141468e-03 9.52150049e-03 1.92402710e-02 5.58418961e-02\n",
      "  2.83883496e-02 6.14600344e-03 6.73607587e-04 3.83982431e-03\n",
      "  1.81819453e-02 7.47633469e-02 1.30344668e-01 8.43221201e-02\n",
      "  8.98522119e-02 1.21515584e-01 6.93341332e-02 3.19423448e-02\n",
      "  6.91809511e-02 4.31052757e-02 8.82598305e-02 5.22462694e-02\n",
      "  5.71412893e-01 3.47950817e-02 1.26631771e-01 6.97165551e-02\n",
      "  1.43335075e-03 1.69005590e-02 3.83982431e-03 1.99917918e-02\n",
      "  2.00688646e-02 7.33944393e-03 5.65267842e-02 1.54624582e-02\n",
      "  3.54536099e-01 4.06199044e-02 9.70828527e-02 6.29276559e-02\n",
      "  1.42829119e-03 7.94765611e-03 3.85030514e-03 2.84489456e-02\n",
      "  3.78900584e-02 1.42682771e-01 8.43240453e-02 6.43484535e-02\n",
      "  4.97841273e-02 3.02067306e-01 2.26597878e-02 3.99802196e-01\n",
      "  1.26201646e-01 2.73048849e-01 1.83672090e-01 9.07091307e-02]\n",
      " [8.55945377e-03 4.97247604e-03 1.42323263e-02 2.88069379e-05\n",
      "  3.16201792e-05 9.90852632e-03 2.79975580e-03 3.24276162e-02\n",
      "  1.40122854e-02 7.28982040e-05 4.20966200e-03 2.52916380e-03\n",
      "  9.50980166e-04 6.69521985e-02 9.66063381e-04 3.33534904e-02\n",
      "  1.51833064e-02 4.14957668e-03 1.58870644e-03 2.62678870e-03\n",
      "  2.02707548e-02 5.63656545e-02 4.17768038e-03 2.75897494e-03\n",
      "  8.60909618e-03 3.80727746e-03 3.57526539e-03 7.77884472e-04\n",
      "  7.21048817e-03 4.86860452e-03 5.93775475e-02 2.03193029e-02\n",
      "  2.71124434e-01 3.74974851e-02 7.74845311e-02 1.77458169e-02\n",
      "  3.59279408e-03 8.80131516e-03 2.62678870e-03 2.32769152e-03\n",
      "  2.29658092e-03 1.53559458e-02 1.43054158e-02 2.70700428e-03\n",
      "  1.09804661e-01 3.15103408e-02 1.35788146e-01 3.11826358e-02\n",
      "  3.59449834e-03 8.48245895e-03 2.64170366e-03 2.84369379e-02\n",
      "  2.00489957e-01 8.51276200e-01 2.74621139e-03 8.66415557e-02\n",
      "  7.81387199e-02 1.21333898e-02 1.07987926e-02 2.54049966e-01\n",
      "  5.78873512e-02 6.33090388e-02 8.56052470e-02 1.07740158e-01]\n",
      " [8.43268355e-03 1.02391946e-03 1.21008392e-02 1.74265092e-05\n",
      "  5.13650819e-05 9.26807863e-03 2.21922429e-03 2.48158273e-02\n",
      "  1.38923580e-02 1.05529393e-04 4.32678696e-03 2.33973389e-03\n",
      "  2.52774701e-03 2.75965162e-03 1.32450222e-02 3.23436743e-02\n",
      "  1.46285862e-02 8.15130143e-04 1.06280225e-02 6.41502398e-03\n",
      "  6.33404874e-03 6.91822200e-02 4.40313542e-02 6.15024838e-02\n",
      "  1.87484111e-02 4.61879524e-02 5.33828538e-02 2.28073912e-02\n",
      "  5.27701363e-02 2.24082113e-02 1.82714501e-02 2.00507912e-02\n",
      "  3.50835104e-01 5.23827483e-02 7.47766255e-02 9.91356703e-03\n",
      "  5.12324851e-03 1.30937701e-02 6.41502398e-03 1.15774997e-02\n",
      "  1.15427668e-02 2.06691252e-02 1.07119991e-01 3.13897219e-03\n",
      "  2.65989435e-02 3.00745002e-02 2.20273022e-02 7.95738216e-02\n",
      "  5.13567015e-03 2.06407159e-02 6.41431621e-03 1.48058822e-02\n",
      "  6.97356203e-02 8.81890643e-02 6.14822562e-02 1.80913967e-02\n",
      "  1.65743239e-01 8.73104932e-01 4.30678486e-02 6.84993123e-02\n",
      "  5.92469881e-02 1.34164377e-02 7.82959417e-02 2.91734174e-02]]\n"
     ]
    }
   ],
   "source": [
    "pca_components = abs(pca.components_)\n",
    "print(pca_components)"
   ]
  },
  {
   "cell_type": "code",
   "execution_count": 12,
   "id": "eebc771f",
   "metadata": {},
   "outputs": [
    {
     "name": "stdout",
     "output_type": "stream",
     "text": [
      "Top 4 most important features in each component\n",
      "===============================================\n",
      "Component 0: ['STL', 'NET_RATING', 'DREB_PCT', 'E_DEF_RATING']\n",
      "Component 1: ['PCT_AST_FGM', 'PCT_AST_3PM', 'PCT_AST_2PM', 'REB_PCT']\n",
      "Component 2: ['E_DEF_RATING', 'NET_RATING', 'DREB_PCT', 'PCT_AST_3PM']\n",
      "Component 3: ['OPP_PTS_OFF_TOV', 'PCT_PTS_2PT', 'PCT_FGA_2PT', 'OFF_RATING']\n",
      "Component 4: ['OPP_EFG_PCT', 'DEF_RATING', 'AST_PCT', 'PCT_PTS_3PT']\n",
      "Component 5: ['OREB_PCT', 'PCT_FGA_2PT', 'E_OFF_RATING', 'PIE']\n",
      "Component 6: ['PCT_PTS_2PT', 'OPP_PTS_OFF_TOV', 'PCT_UAST_2PM', 'PCT_PTS_2PT_MR']\n",
      "Component 7: ['PCT_PTS_2PT_MR', 'PCT_UAST_2PM', 'PCT_PTS_OFF_TOV', 'TM_TOV_PCT']\n",
      "Component 8: ['PCT_PTS_OFF_TOV', 'TM_TOV_PCT', 'E_OFF_RATING', 'OPP_PTS_FB']\n",
      "Component 9: ['PCT_PTS_FB', 'PCT_UAST_3PM', 'E_OFF_RATING', 'OPP_FTA_RATE']\n",
      "Component 10: ['PIE', 'OPP_TOV_PCT', 'PCT_FGA_2PT', 'TOV']\n",
      "Component 11: ['OPP_PTS_FB', 'E_OFF_RATING', 'OPP_FTA_RATE', 'FTA_RATE']\n",
      "Component 12: ['OFF_RATING', 'OPP_PTS_2ND_CHANCE', 'PCT_PTS_2PT', 'OPP_OREB_PCT']\n",
      "Component 13: ['PCT_UAST_FGM', 'OFF_RATING', 'OPP_PTS_2ND_CHANCE', 'PCT_UAST_3PM']\n",
      "Component 14: ['OPP_OREB_PCT', 'OFF_RATING', 'OPP_FTA_RATE', 'PCT_FGA_2PT']\n"
     ]
    }
   ],
   "source": [
    "print('Top 4 most important features in each component')\n",
    "print('===============================================')\n",
    "for row in range(pca_components.shape[0]):\n",
    "    # get the indices of the top 4 values in each row\n",
    "    temp = np.argpartition(-(pca_components[row]), 4)\n",
    "    \n",
    "    # sort the indices in descending order\n",
    "    indices = temp[np.argsort((-pca_components[row])[temp])][:4]\n",
    "    \n",
    "    # print the top 4 feature names\n",
    "    print(f'Component {row}: {stats.columns[indices].to_list()}')"
   ]
  },
  {
   "cell_type": "code",
   "execution_count": 13,
   "id": "a0ca0f06",
   "metadata": {},
   "outputs": [
    {
     "name": "stdout",
     "output_type": "stream",
     "text": [
      "(16448, 15)\n",
      "[[ 3.01176734  0.37854467 -0.49117162 ...  0.13406242 -0.8182177\n",
      "  -0.09567283]\n",
      " [ 1.77610732 -3.57873725 -0.32658122 ...  0.47532845 -0.03913613\n",
      "  -0.05513127]\n",
      " [ 2.49203974  2.27448949  0.01092844 ...  0.18218118  1.39313434\n",
      "  -0.24023787]\n",
      " ...\n",
      " [ 1.590458    1.15601419 -0.94403961 ... -0.74826844  0.27011438\n",
      "  -1.17808668]\n",
      " [ 1.21854278 -0.38280723 -1.89939996 ... -0.07281562 -1.57753478\n",
      "   0.16407354]\n",
      " [-1.87381064 -3.72193357  4.37477279 ...  0.09762646 -0.57612077\n",
      "  -0.34157006]]\n"
     ]
    }
   ],
   "source": [
    "X_pca = pca.transform(X)\n",
    "print(X_pca.shape)\n",
    "print(X_pca)"
   ]
  },
  {
   "cell_type": "code",
   "execution_count": 14,
   "id": "4a69ec77",
   "metadata": {},
   "outputs": [],
   "source": [
    "from sklearn.pipeline import Pipeline\n",
    "from sklearn.preprocessing import StandardScaler\n",
    "from sklearn.decomposition import PCA\n",
    "from sklearn.linear_model import LogisticRegression\n",
    "_sc = StandardScaler()\n",
    "_pca = PCA(n_components = components)\n",
    "_model = LogisticRegression()\n",
    "log_regress_model = Pipeline([\n",
    "    ('std_scaler', _sc),\n",
    "    ('pca', _pca),\n",
    "    ('regressor', _model)\n",
    "])"
   ]
  },
  {
   "cell_type": "code",
   "execution_count": 15,
   "id": "859e7551",
   "metadata": {},
   "outputs": [
    {
     "data": {
      "text/plain": [
       "Pipeline(steps=[('std_scaler', StandardScaler()), ('pca', PCA(n_components=15)),\n",
       "                ('regressor', LogisticRegression())])"
      ]
     },
     "execution_count": 15,
     "metadata": {},
     "output_type": "execute_result"
    }
   ],
   "source": [
    "# perform a split\n",
    "X_train, X_test, y_train, y_test = \\\n",
    "    train_test_split(X, y, \n",
    "                     test_size=0.3,\n",
    "                     shuffle=True, \n",
    "                     random_state=random_state)\n",
    "# train the model using the PCA components\n",
    "log_regress_model.fit(X_train,y_train)"
   ]
  },
  {
   "cell_type": "code",
   "execution_count": 16,
   "id": "8422cd50",
   "metadata": {},
   "outputs": [
    {
     "data": {
      "text/plain": [
       "0.6010131712259372"
      ]
     },
     "execution_count": 16,
     "metadata": {},
     "output_type": "execute_result"
    }
   ],
   "source": [
    "log_regress_model.score(X_test,y_test)"
   ]
  },
  {
   "cell_type": "code",
   "execution_count": 17,
   "id": "c0a33e44",
   "metadata": {},
   "outputs": [
    {
     "name": "stdout",
     "output_type": "stream",
     "text": [
      "Accuracy of model at K=32 is 0.5839918946301925\n"
     ]
    }
   ],
   "source": [
    "from sklearn.neighbors import KNeighborsClassifier\n",
    "from sklearn import metrics\n",
    "#Train Model and Predict\n",
    "k = 32\n",
    "neigh = KNeighborsClassifier(n_neighbors = k).fit(X_train,y_train)\n",
    "Pred_y = neigh.predict(X_test)\n",
    "print(\"Accuracy of model at K=32 is\",metrics.accuracy_score(y_test, Pred_y))"
   ]
  },
  {
   "cell_type": "code",
   "execution_count": 18,
   "id": "fe4a05db",
   "metadata": {},
   "outputs": [
    {
     "name": "stdout",
     "output_type": "stream",
     "text": [
      "Minimum error:- 0.33002431118314424 at K = 32\n"
     ]
    },
    {
     "data": {
      "image/png": "[encoded data removed]",
      "text/plain": [
       "<Figure size 720x432 with 1 Axes>"
      ]
     },
     "metadata": {
      "needs_background": "light"
     },
     "output_type": "display_data"
    }
   ],
   "source": [
    "error_rate = []\n",
    "for i in range(1,40):\n",
    " knn = KNeighborsClassifier(n_neighbors=i)\n",
    " knn.fit(X_train,y_train)\n",
    " pred_i = knn.predict(X_test)\n",
    " error_rate.append(np.mean(pred_i != y_test))\n",
    "\n",
    "plt.figure(figsize=(10,6))\n",
    "plt.plot(range(1,40),error_rate,color='blue', linestyle='dashed', \n",
    "         marker='o',markerfacecolor='red', markersize=10)\n",
    "plt.title('Error Rate vs. K Value')\n",
    "plt.xlabel('K')\n",
    "plt.ylabel('Error Rate')\n",
    "print(\"Minimum error:-\",min(error_rate),\"at K =\",error_rate.index(min(error_rate)))"
   ]
  },
  {
   "cell_type": "code",
   "execution_count": 18,
   "id": "79d15a5a",
   "metadata": {},
   "outputs": [],
   "source": [
    "from sklearn.naive_bayes import GaussianNB\n",
    "gnb = GaussianNB()\n",
    "gnb.fit(X_train, y_train)\n",
    "y_pred = gnb.predict(X_test)"
   ]
  },
  {
   "cell_type": "code",
   "execution_count": 19,
   "id": "66ab2b39",
   "metadata": {},
   "outputs": [
    {
     "name": "stdout",
     "output_type": "stream",
     "text": [
      "Gaussian Naive Bayes model accuracy(in %): 58.48024316109422\n"
     ]
    }
   ],
   "source": [
    "from sklearn import metrics\n",
    "print(\"Gaussian Naive Bayes model accuracy(in %):\", metrics.accuracy_score(y_test, y_pred)*100)"
   ]
  },
  {
   "cell_type": "code",
   "execution_count": 20,
   "id": "ca62b3fd",
   "metadata": {},
   "outputs": [
    {
     "name": "stdout",
     "output_type": "stream",
     "text": [
      "0.5849040215408668\n",
      "0.5779128672745694\n"
     ]
    }
   ],
   "source": [
    "from sklearn.svm import SVC\n",
    "  \n",
    "# Building a Support Vector Machine on train data\n",
    "svc_model = SVC(C= .1, kernel='linear', gamma= 1)\n",
    "svc_model.fit(X_train, y_train)\n",
    "  \n",
    "prediction = svc_model .predict(X_test)\n",
    "# check the accuracy on the training set\n",
    "print(svc_model.score(X_train, y_train))\n",
    "print(svc_model.score(X_test, y_test))"
   ]
  },
  {
   "cell_type": "code",
   "execution_count": 21,
   "id": "5ca8d20e",
   "metadata": {},
   "outputs": [
    {
     "data": {
      "text/plain": [
       "SVC()"
      ]
     },
     "execution_count": 21,
     "metadata": {},
     "output_type": "execute_result"
    }
   ],
   "source": [
    "\n",
    "# Building a Support Vector Machine on train data\n",
    "svc_model = SVC(kernel='rbf')\n",
    "svc_model.fit(X_train, y_train)"
   ]
  },
  {
   "cell_type": "code",
   "execution_count": 22,
   "id": "d8024da5",
   "metadata": {},
   "outputs": [
    {
     "name": "stdout",
     "output_type": "stream",
     "text": [
      "0.6541301137844177\n",
      "0.5983789260385005\n"
     ]
    }
   ],
   "source": [
    "print(svc_model.score(X_train, y_train))\n",
    "print(svc_model.score(X_test, y_test))"
   ]
  },
  {
   "cell_type": "code",
   "execution_count": 23,
   "id": "b6bc4be2",
   "metadata": {},
   "outputs": [
    {
     "name": "stdout",
     "output_type": "stream",
     "text": [
      "0.6367584469729871\n",
      "0.5912867274569402\n"
     ]
    }
   ],
   "source": [
    "#Building a Support Vector Machine on train data(changing the kernel)\n",
    "svc_model  = SVC(kernel='poly')\n",
    "svc_model.fit(X_train, y_train)\n",
    "  \n",
    "prediction = svc_model.predict(X_test)\n",
    "  \n",
    "print(svc_model.score(X_train, y_train))\n",
    "print(svc_model.score(X_test, y_test))"
   ]
  },
  {
   "cell_type": "code",
   "execution_count": 24,
   "id": "2e861fe2",
   "metadata": {},
   "outputs": [
    {
     "name": "stdout",
     "output_type": "stream",
     "text": [
      "0.5227134543559454\n",
      "0.5274569402228977\n"
     ]
    }
   ],
   "source": [
    "svc_model = SVC(kernel='sigmoid')\n",
    "svc_model.fit(X_train, y_train)\n",
    "  \n",
    "prediction = svc_model.predict(X_test)\n",
    "  \n",
    "print(svc_model.score(X_train, y_train))\n",
    "print(svc_model.score(X_test, y_test))"
   ]
  },
  {
   "cell_type": "code",
   "execution_count": 25,
   "id": "e23df1c5",
   "metadata": {},
   "outputs": [],
   "source": [
    "from sklearn.neural_network import MLPClassifier\n",
    "\n",
    "mlp = MLPClassifier(hidden_layer_sizes=(8,8,8), activation='relu', solver='adam', max_iter=500)\n",
    "mlp.fit(X_train,y_train)\n",
    "\n",
    "predict_train = mlp.predict(X_train)\n",
    "predict_test = mlp.predict(X_test)"
   ]
  },
  {
   "cell_type": "code",
   "execution_count": 26,
   "id": "9544183a",
   "metadata": {
    "scrolled": true
   },
   "outputs": [
    {
     "name": "stdout",
     "output_type": "stream",
     "text": [
      "[[1678 3101]\n",
      " [1112 5622]]\n",
      "              precision    recall  f1-score   support\n",
      "\n",
      "         0.0       0.60      0.35      0.44      4779\n",
      "         1.0       0.64      0.83      0.73      6734\n",
      "\n",
      "    accuracy                           0.63     11513\n",
      "   macro avg       0.62      0.59      0.59     11513\n",
      "weighted avg       0.63      0.63      0.61     11513\n",
      "\n"
     ]
    }
   ],
   "source": [
    "from sklearn.metrics import classification_report,confusion_matrix\n",
    "print(confusion_matrix(y_train,predict_train))\n",
    "print(classification_report(y_train,predict_train))"
   ]
  },
  {
   "cell_type": "code",
   "execution_count": null,
   "id": "8786a003",
   "metadata": {},
   "outputs": [],
   "source": []
  },
  {
   "cell_type": "code",
   "execution_count": 27,
   "id": "8d26a9ce",
   "metadata": {},
   "outputs": [
    {
     "name": "stdout",
     "output_type": "stream",
     "text": [
      "Epoch 1/50\n",
      "576/576 [==============================] - 0s 427us/step - loss: 0.2859\n",
      "Epoch 2/50\n",
      "576/576 [==============================] - 0s 416us/step - loss: 0.2362\n",
      "Epoch 3/50\n",
      "576/576 [==============================] - 0s 415us/step - loss: 0.2347\n",
      "Epoch 4/50\n",
      "576/576 [==============================] - 0s 427us/step - loss: 0.2344\n",
      "Epoch 5/50\n",
      "576/576 [==============================] - 0s 419us/step - loss: 0.2340\n",
      "Epoch 6/50\n",
      "576/576 [==============================] - 0s 417us/step - loss: 0.2338\n",
      "Epoch 7/50\n",
      "576/576 [==============================] - 0s 420us/step - loss: 0.2336\n",
      "Epoch 8/50\n",
      "576/576 [==============================] - 0s 420us/step - loss: 0.2334\n",
      "Epoch 9/50\n",
      "576/576 [==============================] - 0s 422us/step - loss: 0.2333\n",
      "Epoch 10/50\n",
      "576/576 [==============================] - 0s 419us/step - loss: 0.2331\n",
      "Epoch 11/50\n",
      "576/576 [==============================] - 0s 417us/step - loss: 0.2330\n",
      "Epoch 12/50\n",
      "576/576 [==============================] - 0s 422us/step - loss: 0.2328\n",
      "Epoch 13/50\n",
      "576/576 [==============================] - 0s 421us/step - loss: 0.2328\n",
      "Epoch 14/50\n",
      "576/576 [==============================] - 0s 445us/step - loss: 0.2328\n",
      "Epoch 15/50\n",
      "576/576 [==============================] - 0s 432us/step - loss: 0.2329\n",
      "Epoch 16/50\n",
      "576/576 [==============================] - 0s 420us/step - loss: 0.2326\n",
      "Epoch 17/50\n",
      "576/576 [==============================] - 0s 417us/step - loss: 0.2325\n",
      "Epoch 18/50\n",
      "576/576 [==============================] - 0s 415us/step - loss: 0.2321\n",
      "Epoch 19/50\n",
      "576/576 [==============================] - 0s 414us/step - loss: 0.2322\n",
      "Epoch 20/50\n",
      "576/576 [==============================] - 0s 418us/step - loss: 0.2323\n",
      "Epoch 21/50\n",
      "576/576 [==============================] - 0s 416us/step - loss: 0.2321\n",
      "Epoch 22/50\n",
      "576/576 [==============================] - 0s 415us/step - loss: 0.2321\n",
      "Epoch 23/50\n",
      "576/576 [==============================] - 0s 416us/step - loss: 0.2321\n",
      "Epoch 24/50\n",
      "576/576 [==============================] - 0s 438us/step - loss: 0.2318\n",
      "Epoch 25/50\n",
      "576/576 [==============================] - 0s 412us/step - loss: 0.2320\n",
      "Epoch 26/50\n",
      "576/576 [==============================] - 0s 413us/step - loss: 0.2319\n",
      "Epoch 27/50\n",
      "576/576 [==============================] - 0s 417us/step - loss: 0.2314\n",
      "Epoch 28/50\n",
      "576/576 [==============================] - 0s 415us/step - loss: 0.2319\n",
      "Epoch 29/50\n",
      "576/576 [==============================] - 0s 420us/step - loss: 0.2317\n",
      "Epoch 30/50\n",
      "576/576 [==============================] - 0s 424us/step - loss: 0.2315\n",
      "Epoch 31/50\n",
      "576/576 [==============================] - 0s 413us/step - loss: 0.2318\n",
      "Epoch 32/50\n",
      "576/576 [==============================] - 0s 417us/step - loss: 0.2315\n",
      "Epoch 33/50\n",
      "576/576 [==============================] - 0s 415us/step - loss: 0.2317\n",
      "Epoch 34/50\n",
      "576/576 [==============================] - 0s 415us/step - loss: 0.2315\n",
      "Epoch 35/50\n",
      "576/576 [==============================] - 0s 414us/step - loss: 0.2315\n",
      "Epoch 36/50\n",
      "576/576 [==============================] - 0s 417us/step - loss: 0.2313\n",
      "Epoch 37/50\n",
      "576/576 [==============================] - 0s 435us/step - loss: 0.2314\n",
      "Epoch 38/50\n",
      "576/576 [==============================] - 0s 414us/step - loss: 0.2314\n",
      "Epoch 39/50\n",
      "576/576 [==============================] - 0s 415us/step - loss: 0.2315\n",
      "Epoch 40/50\n",
      "576/576 [==============================] - 0s 415us/step - loss: 0.2312\n",
      "Epoch 41/50\n",
      "576/576 [==============================] - 0s 417us/step - loss: 0.2312\n",
      "Epoch 42/50\n",
      "576/576 [==============================] - 0s 417us/step - loss: 0.2313\n",
      "Epoch 43/50\n",
      "576/576 [==============================] - 0s 435us/step - loss: 0.2312\n",
      "Epoch 44/50\n",
      "576/576 [==============================] - 0s 416us/step - loss: 0.2312\n",
      "Epoch 45/50\n",
      "576/576 [==============================] - 0s 432us/step - loss: 0.2309\n",
      "Epoch 46/50\n",
      "576/576 [==============================] - 0s 431us/step - loss: 0.2312\n",
      "Epoch 47/50\n",
      "576/576 [==============================] - 0s 414us/step - loss: 0.2309\n",
      "Epoch 48/50\n",
      "576/576 [==============================] - 0s 419us/step - loss: 0.2308\n",
      "Epoch 49/50\n",
      "576/576 [==============================] - 0s 419us/step - loss: 0.2308\n",
      "Epoch 50/50\n",
      "576/576 [==============================] - 0s 415us/step - loss: 0.2308\n"
     ]
    },
    {
     "data": {
      "text/plain": [
       "<tensorflow.python.keras.callbacks.History at 0x162ea65c730>"
      ]
     },
     "execution_count": 27,
     "metadata": {},
     "output_type": "execute_result"
    }
   ],
   "source": [
    "\n",
    "# importing the libraries\n",
    "from tensorflow.keras import Sequential\n",
    "from tensorflow.keras.layers import Conv2D, Flatten, Dense\n",
    " \n",
    "# create ANN model\n",
    "model = Sequential()\n",
    " \n",
    "# Defining the Input layer and FIRST hidden layer, both are same!\n",
    "model.add(Dense(units=5, input_dim=64, kernel_initializer='normal', activation='relu'))\n",
    " \n",
    "# Defining the Second layer of the model\n",
    "# after the first layer we don't have to specify input_dim as keras configure it automatically\n",
    "model.add(Dense(units=5, kernel_initializer='normal', activation='tanh'))\n",
    " \n",
    "# The output neuron is a single fully connected node \n",
    "# Since we will be predicting a single number\n",
    "model.add(Dense(1, kernel_initializer='normal'))\n",
    " \n",
    "# Compiling the model\n",
    "model.compile(loss='mean_squared_error', optimizer='adam')\n",
    " \n",
    "# Fitting the ANN to the Training set\n",
    "model.fit(X_train, y_train ,batch_size = 20, epochs = 50, verbose=1)"
   ]
  },
  {
   "cell_type": "code",
   "execution_count": null,
   "id": "5d196537",
   "metadata": {},
   "outputs": [],
   "source": []
  },
  {
   "cell_type": "code",
   "execution_count": null,
   "id": "4df20b10",
   "metadata": {},
   "outputs": [],
   "source": []
  }
 ],
 "metadata": {
  "kernelspec": {
   "display_name": "Python 3",
   "language": "python",
   "name": "python3"
  },
  "language_info": {
   "codemirror_mode": {
    "name": "ipython",
    "version": 3
   },
   "file_extension": ".py",
   "mimetype": "text/x-python",
   "name": "python",
   "nbconvert_exporter": "python",
   "pygments_lexer": "ipython3",
   "version": "3.8.8"
  }
 },
 "nbformat": 4,
 "nbformat_minor": 5
}
