{
 "cells": [
  {
   "cell_type": "code",
   "execution_count": 60,
   "id": "ec3445df",
   "metadata": {},
   "outputs": [],
   "source": [
    "import pandas as pd\n",
    "import numpy as np\n",
    "import matplotlib.pyplot as plt\n",
    "%matplotlib inline\n",
    "from sklearn.decomposition import PCA\n",
    "from sklearn.preprocessing import StandardScaler"
   ]
  },
  {
   "cell_type": "code",
   "execution_count": 61,
   "id": "9fa54ebb",
   "metadata": {},
   "outputs": [],
   "source": [
    "stats = pd.read_csv(r'Data\\final_dataset_ewm_year.csv')\n",
    "stats = stats.drop('PACE',1)\n",
    "stats = stats.drop('E_PACE', 1)\n",
    "stats = stats.drop('Score',1)\n",
    "stats = stats.drop('Odds1',1)\n",
    "stats = stats.drop('Odds2',1)"
   ]
  },
  {
   "cell_type": "code",
   "execution_count": 62,
   "id": "5fa0043e",
   "metadata": {},
   "outputs": [],
   "source": [
    "X = stats.iloc[:,3:-1]\n",
    "y = stats.iloc[:,-1]"
   ]
  },
  {
   "cell_type": "code",
   "execution_count": 63,
   "id": "fe6a6765",
   "metadata": {},
   "outputs": [
    {
     "name": "stdout",
     "output_type": "stream",
     "text": [
      "(14575, 64) (14575,)\n"
     ]
    }
   ],
   "source": [
    "print(X.shape, y.shape)"
   ]
  },
  {
   "cell_type": "code",
   "execution_count": 80,
   "id": "60f17f00",
   "metadata": {
    "scrolled": false
   },
   "outputs": [
    {
     "name": "stdout",
     "output_type": "stream",
     "text": [
      "(14575, 20)\n"
     ]
    }
   ],
   "source": [
    "#Scale Data\n",
    "scaling=StandardScaler()\n",
    "\n",
    "#Use fit and transform method\n",
    "scaling.fit(X)\n",
    "Scaled_data=scaling.transform(X)\n",
    "\n",
    "#Set the n_components\n",
    "principal=PCA(.97)\n",
    "principal.fit(Scaled_data)\n",
    "x=principal.transform(Scaled_data)\n",
    "\n",
    "print(x.shape)\n"
   ]
  },
  {
   "cell_type": "code",
   "execution_count": 71,
   "id": "b272afb7",
   "metadata": {},
   "outputs": [
    {
     "data": {
      "text/plain": [
       "array([[-2.37204816,  1.35669545,  0.38059495, ..., -0.72777692,\n",
       "        -1.923846  ,  3.05177729],\n",
       "       [-3.49423807, -3.67254753,  0.1980552 , ...,  0.1957597 ,\n",
       "        -1.74481048, -0.24271393],\n",
       "       [-6.20422984, -1.02546833, -0.4798447 , ..., -0.39490447,\n",
       "         0.14793156, -0.17609316],\n",
       "       ...,\n",
       "       [ 4.37051514,  1.64419744,  0.14233365, ..., -0.36415586,\n",
       "         0.93115537, -2.03098841],\n",
       "       [ 3.57540068, -1.08963731, -2.12324314, ..., -0.49078107,\n",
       "         3.6139627 ,  0.81643829],\n",
       "       [-6.74189569, -7.22038293,  7.11471615, ..., -1.16499349,\n",
       "         1.52532628,  1.57236853]])"
      ]
     },
     "execution_count": 71,
     "metadata": {},
     "output_type": "execute_result"
    }
   ],
   "source": [
    "x"
   ]
  },
  {
   "cell_type": "code",
   "execution_count": null,
   "id": "2747091b",
   "metadata": {},
   "outputs": [],
   "source": []
  },
  {
   "cell_type": "code",
   "execution_count": null,
   "id": "e1022ce8",
   "metadata": {},
   "outputs": [],
   "source": []
  },
  {
   "cell_type": "code",
   "execution_count": null,
   "id": "d941700c",
   "metadata": {},
   "outputs": [],
   "source": []
  }
 ],
 "metadata": {
  "kernelspec": {
   "display_name": "Python 3",
   "language": "python",
   "name": "python3"
  },
  "language_info": {
   "codemirror_mode": {
    "name": "ipython",
    "version": 3
   },
   "file_extension": ".py",
   "mimetype": "text/x-python",
   "name": "python",
   "nbconvert_exporter": "python",
   "pygments_lexer": "ipython3",
   "version": "3.8.8"
  }
 },
 "nbformat": 4,
 "nbformat_minor": 5
}
