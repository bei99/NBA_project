{
 "cells": [
  {
   "cell_type": "code",
   "execution_count": 67,
   "id": "b9294beb",
   "metadata": {},
   "outputs": [],
   "source": [
    "import pandas as pd\n",
    "import numpy as np"
   ]
  },
  {
   "cell_type": "code",
   "execution_count": null,
   "id": "53664092",
   "metadata": {},
   "outputs": [],
   "source": [
    "stats = pd.read_csv(r'NBA_scraping/data_cleaning/stats_merged.csv')"
   ]
  },
  {
   "cell_type": "code",
   "execution_count": 69,
   "id": "cf03dbb4",
   "metadata": {
    "scrolled": false
   },
   "outputs": [
    {
     "name": "stderr",
     "output_type": "stream",
     "text": [
      "<ipython-input-69-f80b1ee370ad>:8: SettingWithCopyWarning: \n",
      "A value is trying to be set on a copy of a slice from a DataFrame.\n",
      "Try using .loc[row_indexer,col_indexer] = value instead\n",
      "\n",
      "See the caveats in the documentation: https://pandas.pydata.org/pandas-docs/stable/user_guide/indexing.html#returning-a-view-versus-a-copy\n",
      "  stats_x['GAME_DATE'] = pd.to_datetime(stats_x['GAME_DATE'])\n"
     ]
    }
   ],
   "source": [
    "years = ['2021-22', '2020-21', '2019-20', '2018-19', '2017-18', '2016-17', '2015-16', '2014-15', '2013-14', '2012-13',\n",
    "         '2011-12', '2010-11', '2009-10', '2008-09']\n",
    "\n",
    "def ewm_year(df, season, span, min_periods, suffix, filename):\n",
    "    merged = []\n",
    "    for i in season:\n",
    "        stats_x = df.loc[df['SEASON_YEAR']== i]        \n",
    "        stats_x['GAME_DATE'] = pd.to_datetime(stats_x['GAME_DATE'])\n",
    "        stats_x.set_index(['GAME_DATE', 'HOME', 'AWAY'], inplace=True) \n",
    "        stats_x = stats_x.sort_index()\n",
    "        stats_x =stats_x.groupby('TEAM_ABBREVIATION').ewm(span=span, min_periods=min_periods).mean()\n",
    "        stats_x = stats_x.shift(1)\n",
    "        stats_x = stats_x.drop('Unnamed: 0', 1)\n",
    "        stats_x = stats_x.add_suffix(suffix)\n",
    "        merged.append(stats_x)\n",
    "    merged = pd.concat(merged)\n",
    "    merged.to_csv('%s.csv' %filename)\n",
    "\n",
    "stats_home = stats\n",
    "stats_home = stats_home[stats_home.TEAM_ABBREVIATION == stats_home.HOME]\n",
    "stats_away = stats\n",
    "stats_away = stats_away[stats_away.TEAM_ABBREVIATION == stats_away.AWAY]\n",
    "\n",
    "\n",
    "ewm_year(stats, years, 10, 10, ' _ewm10', 'ewm_10')\n",
    "ewm_year(stats_home, years, 10, 5, '_ewm10ha', 'ewm_10h')\n",
    "ewm_year(stats_away, years, 10, 5, '_ewm10ha', 'ewm_10a')\n",
    "ewm_year(stats, years, 5, 5, ' _ewm5', 'ewm_5')\n",
    "ewm_year(stats_home, years, 5, 5, '_ewm5ha', 'ewm_5h')\n",
    "ewm_year(stats_away, years, 5, 5, '_ewm5ha', 'ewm_5a') "
   ]
  },
  {
   "cell_type": "code",
   "execution_count": 70,
   "id": "ec5924d1",
   "metadata": {},
   "outputs": [],
   "source": [
    "ewm10 = pd.read_csv('ewm_10.csv')\n",
    "ewm10h = pd.read_csv('ewm_10h.csv')\n",
    "ewm10a = pd.read_csv('ewm_10a.csv')\n",
    "ewm5 = pd.read_csv('ewm_5.csv')\n",
    "ewm5h = pd.read_csv('ewm_5h.csv')\n",
    "ewm5a = pd.read_csv('ewm_5a.csv')"
   ]
  },
  {
   "cell_type": "code",
   "execution_count": 71,
   "id": "65fbbb3d",
   "metadata": {},
   "outputs": [],
   "source": [
    "stats_col = ewm10.reset_index()\n",
    "stats_home = stats_col\n",
    "stats_home = stats_home[stats_home.TEAM_ABBREVIATION == stats_home.HOME]\n",
    "stats_away = stats_col\n",
    "stats_away = stats_away[stats_away.TEAM_ABBREVIATION == stats_away.AWAY]"
   ]
  },
  {
   "cell_type": "code",
   "execution_count": 72,
   "id": "51d70d4d",
   "metadata": {},
   "outputs": [],
   "source": [
    "stats_home.set_index(['GAME_DATE', 'HOME', 'AWAY'], inplace=True)\n",
    "stats_away.set_index(['GAME_DATE', 'HOME', 'AWAY'], inplace=True)\n",
    "stats_home = stats_home.drop('TEAM_ABBREVIATION', 1)\n",
    "stats_away = stats_away.drop('TEAM_ABBREVIATION', 1)\n",
    "\n",
    "# Subtract stats_home - stats_away if they have the same index\n",
    "stats_sub = stats_home - stats_away\n",
    "stats_sub = stats_sub.drop('index', 1)\n",
    "stats_sub.to_csv('ewm10_diff.csv')"
   ]
  },
  {
   "cell_type": "code",
   "execution_count": 73,
   "id": "42c28376",
   "metadata": {},
   "outputs": [],
   "source": [
    "stats_col = ewm5.reset_index()\n",
    "stats_home = stats_col\n",
    "stats_home = stats_home[stats_home.TEAM_ABBREVIATION == stats_home.HOME]\n",
    "stats_away = stats_col\n",
    "stats_away = stats_away[stats_away.TEAM_ABBREVIATION == stats_away.AWAY]"
   ]
  },
  {
   "cell_type": "code",
   "execution_count": 74,
   "id": "aebaf5e1",
   "metadata": {},
   "outputs": [],
   "source": [
    "stats_home.set_index(['GAME_DATE', 'HOME', 'AWAY'], inplace=True)\n",
    "stats_away.set_index(['GAME_DATE', 'HOME', 'AWAY'], inplace=True)\n",
    "stats_home = stats_home.drop('TEAM_ABBREVIATION', 1)\n",
    "stats_away = stats_away.drop('TEAM_ABBREVIATION', 1)\n",
    "\n",
    "# Subtract stats_home - stats_away if they have the same index\n",
    "stats_sub = stats_home - stats_away\n",
    "stats_sub = stats_sub.drop('index', 1)\n",
    "stats_sub.to_csv('ewm5_diff.csv')"
   ]
  },
  {
   "cell_type": "code",
   "execution_count": 75,
   "id": "3d97b2c2",
   "metadata": {},
   "outputs": [],
   "source": [
    "stats_10h = ewm10h.reset_index()\n",
    "stats_home = stats_10h\n",
    "\n",
    "stats_10a = ewm10a.reset_index()\n",
    "stats_away = stats_10a\n",
    "\n",
    "stats_home.set_index(['GAME_DATE', 'HOME', 'AWAY'], inplace=True)\n",
    "stats_away.set_index(['GAME_DATE', 'HOME', 'AWAY'], inplace=True)\n",
    "stats_home = stats_home.drop('TEAM_ABBREVIATION', 1)\n",
    "stats_away = stats_away.drop('TEAM_ABBREVIATION', 1)\n",
    "\n",
    "# Subtract stats_home - stats_away if they have the same index\n",
    "stats_sub = stats_home - stats_away\n",
    "\n",
    "stats_sub = stats_sub.drop('index', 1)\n",
    "stats_sub.to_csv('ewm10_diff_ha.csv')"
   ]
  },
  {
   "cell_type": "code",
   "execution_count": 76,
   "id": "309f4cbf",
   "metadata": {},
   "outputs": [],
   "source": [
    "stats_5h = ewm5h.reset_index()\n",
    "stats_home = stats_5h\n",
    "\n",
    "stats_5a = ewm5a.reset_index()\n",
    "stats_away = stats_5a\n",
    "\n",
    "stats_home.set_index(['GAME_DATE', 'HOME', 'AWAY'], inplace=True)\n",
    "stats_away.set_index(['GAME_DATE', 'HOME', 'AWAY'], inplace=True)\n",
    "stats_home = stats_home.drop('TEAM_ABBREVIATION', 1)\n",
    "stats_away = stats_away.drop('TEAM_ABBREVIATION', 1)\n",
    "\n",
    "# Subtract stats_home - stats_away if they have the same index\n",
    "stats_sub = stats_home - stats_away\n",
    "\n",
    "stats_sub = stats_sub.drop('index', 1)\n",
    "stats_sub.to_csv('ewm5_diff_ha.csv')"
   ]
  },
  {
   "cell_type": "code",
   "execution_count": 78,
   "id": "140aadcf",
   "metadata": {},
   "outputs": [],
   "source": [
    "ewm10_diff = pd.read_csv('ewm10_diff.csv')\n",
    "ewm10_diff_ha = pd.read_csv('ewm10_diff_ha.csv')\n",
    "ewm5_diff = pd.read_csv('ewm5_diff.csv')\n",
    "ewm5_diff_ha = pd.read_csv('ewm5_diff_ha.csv')\n",
    "\n",
    "all_data = ewm10_diff.merge(ewm10_diff_ha).merge(ewm5_diff).merge(ewm5_diff_ha)\n",
    "all_data.to_csv('stats_ewm_final.csv')"
   ]
  },
  {
   "cell_type": "code",
   "execution_count": null,
   "id": "4d5ad3fb",
   "metadata": {},
   "outputs": [],
   "source": []
  }
 ],
 "metadata": {
  "kernelspec": {
   "display_name": "Python 3",
   "language": "python",
   "name": "python3"
  },
  "language_info": {
   "codemirror_mode": {
    "name": "ipython",
    "version": 3
   },
   "file_extension": ".py",
   "mimetype": "text/x-python",
   "name": "python",
   "nbconvert_exporter": "python",
   "pygments_lexer": "ipython3",
   "version": "3.8.8"
  }
 },
 "nbformat": 4,
 "nbformat_minor": 5
}
